{
 "cells": [
  {
   "cell_type": "markdown",
   "metadata": {},
   "source": [
    "<center> \n",
    "     <img src=\"https://cf-courses-data.s3.us.cloud-object-storage.appdomain.cloud/assets/logos/SN_web_lightmode.png\" width=\"300\"> \n",
    "</center>\n",
    "\n",
    "# Assignment: Notebook for Peer Assignment\n",
    "Estimated time needed: 45 minutes\n"
   ]
  },
  {
   "cell_type": "markdown",
   "metadata": {},
   "source": [
    "# Assignment Scenario\n",
    "\n",
    "Congratulations! You have just been hired by a US Venture Capital firm as a data analyst.\n",
    "\n",
    "The company is considering foreign grain markets to help meet its supply chain requirements for its recent investments in the microbrewery and microdistillery industry, which is involved with the production and distribution of craft beers and spirits.\n",
    "\n",
    "Your first task is to provide a high level analysis of crop production in Canada. Your stakeholders want to understand the current and historical performance of certain crop types in terms of supply and price volatility. For now they are mainly interested in a macro-view of Canada's crop farming industry, and how it relates to the relative value of the Canadian and US dollars.\n"
   ]
  },
  {
   "cell_type": "markdown",
   "metadata": {},
   "source": [
    "# Introduction\n",
    "\n",
    "Using this R notebook you will:\n",
    "\n",
    "1.  Understand four datasets \n",
    "2.  Load the datasets into four separate tables in a Db2 database\n",
    "3.  Execute SQL queries unsing the RODBC R package to answer assignment questions \n",
    "\n",
    "You have already encountered two of these datasets in the previous practice lab. You will be able to reuse much of the work you did there to prepare your database tables for executing SQL queries.\n"
   ]
  },
  {
   "cell_type": "markdown",
   "metadata": {},
   "source": [
    "# Understand the datasets\n",
    "\n",
    "To complete the assignment problems in this notebook you will be using subsetted snapshots of two datasets from Statistics Canada, and one from the Bank of Canada. The links to the prepared datasets are provided in the next section; the interested student can explore the landing pages for the source datasets as follows:\n",
    "\n",
    "1.  <a href=\"https://www150.statcan.gc.ca/t1/tbl1/en/tv.action?utm_medium=Exinfluencer&utm_source=Exinfluencer&utm_content=000026UJ&utm_term=10006555&utm_id=NA-SkillsNetwork-Channel-SkillsNetworkCoursesIBMRP0203ENSkillsNetwork890-2022-01-01&pid=3210035901\">Canadian Principal Crops (Data & Metadata)</a>\n",
    "2.  <a href=\"https://www150.statcan.gc.ca/t1/tbl1/en/tv.action?utm_medium=Exinfluencer&utm_source=Exinfluencer&utm_content=000026UJ&utm_term=10006555&utm_id=NA-SkillsNetwork-Channel-SkillsNetworkCoursesIBMRP0203ENSkillsNetwork890-2022-01-01&pid=3210007701\">Farm product prices (Data & Metadata)</a>\n",
    "3.  <a href=\"https://www.bankofcanada.ca/rates/exchange/daily-exchange-rates?utm_medium=Exinfluencer&utm_source=Exinfluencer&utm_content=000026UJ&utm_term=10006555&utm_id=NA-SkillsNetwork-Channel-SkillsNetworkCoursesIBMRP0203ENSkillsNetwork890-2022-01-01\">Bank of Canada daily average exchange rates</a>\n",
    "\n",
    "\n",
    "### 1. Canadian Principal Crops Data *\n",
    "\n",
    "This dataset contains agricultural production measures for the principle crops grown in Canada, including a breakdown by province and teritory, for each year from 1908 to 2020.\n",
    "\n",
    "For this assignment you will use a preprocessed snapshot of this dataset (see below).\n",
    "\n",
    "A detailed description of this dataset can be obtained from the StatsCan Data Portal at:\n",
    "https://www150.statcan.gc.ca/t1/tbl1/en/tv.action?pid=3210035901  \n",
    "Detailed information is included in the metadata file and as header text in the data file, which can be downloaded - look for the 'download options' link.  \n",
    "\n",
    "### 2. Farm product prices\n",
    "\n",
    "This dataset contains monthly average farm product prices for Canadian crops and livestock by province and teritory, from 1980 to 2020 (or 'last year', whichever is greatest).\n",
    "\n",
    "For this assignment you will use a preprocessed snapshot of this dataset (see below).\n",
    "\n",
    "A description of this dataset can be obtained from the StatsCan Data Portal at:\n",
    "https://www150.statcan.gc.ca/t1/tbl1/en/tv.action?pid=3210007701 \n",
    "The information is included in the metadata file, which can be downloaded - look for the 'download options' link.  \n",
    "\n",
    "### 3. Bank of Canada daily average exchange rates *\n",
    "\n",
    "This dataset contains the daily average exchange rates for multiple foreign currencies. Exchange rates are expressed as 1 unit of the foreign currency converted into Canadian dollars. It includes only the latest four years of data, and the rates are published once each business day by 16:30 ET.\n",
    "\n",
    "For this assignment you will use a snapshot of this dataset with only the USD-CAD exchange rates included (see next section). We have also prepared a monthly averaged version which you will be using below.\n",
    "\n",
    "A brief description of this dataset and the original dataset can be obtained from the Bank of Canada Data Portal at:\n",
    "https://www.bankofcanada.ca/rates/exchange/daily-exchange-rates/\n",
    "\n",
    "( * these datasets are the same as the ones you used in the practice lab)\n"
   ]
  },
  {
   "cell_type": "markdown",
   "metadata": {},
   "source": [
    "### Dataset URLs\n",
    "\n",
    "  1.  Annual Crop Data: https://cf-courses-data.s3.us.cloud-object-storage.appdomain.cloud/IBM-RP0203EN-SkillsNetwork/labs/Final%20Project/Annual_Crop_Data.csv \n",
    "\n",
    "  2.  Farm product prices: https://cf-courses-data.s3.us.cloud-object-storage.appdomain.cloud/IBM-RP0203EN-SkillsNetwork/labs/Final%20Project/Monthly_Farm_Prices.csv\n",
    "  \n",
    "  3.  Daily FX Data: https://cf-courses-data.s3.us.cloud-object-storage.appdomain.cloud/IBM-RP0203EN-SkillsNetwork/labs/Final%20Project/Daily_FX.csv\n",
    "  \n",
    "  4.  Monthly FX Data: https://cf-courses-data.s3.us.cloud-object-storage.appdomain.cloud/IBM-RP0203EN-SkillsNetwork/labs/Final%20Project/Monthly_FX.csv\n",
    "  \n",
    "\n",
    "<span style=\"color:red\">**IMPORTANT:**</span> You will be loading these datasets directly into R data frames from these URLs instead of from the StatsCan and Bank of Canada portals. The versions provided at these URLs are simplified and subsetted versions of the original datasets.\n"
   ]
  },
  {
   "cell_type": "markdown",
   "metadata": {},
   "source": [
    "#### Now let's load these datasets into four separate Db2 tables.\n",
    "Let's first load the RODBC package:\n"
   ]
  },
  {
   "cell_type": "code",
   "execution_count": 1,
   "metadata": {
    "tags": []
   },
   "outputs": [],
   "source": [
    "library(RODBC)"
   ]
  },
  {
   "cell_type": "markdown",
   "metadata": {},
   "source": [
    "## Problem 1\n",
    "#### Create tables\n",
    "Establish a connection to the Db2 database, and create the following four tables using the RODBC package in R. \n",
    "Use the separate cells provided below to create each of your tables.\n",
    "\n",
    "1.  **CROP_DATA**\n",
    "2.  **FARM_PRICES**\n",
    "3.  **DAILY_FX**\n",
    "4.  **MONTHLY_FX**  \n",
    "\n",
    "The previous practice lab will help you accomplish this.\n"
   ]
  },
  {
   "cell_type": "markdown",
   "metadata": {},
   "source": [
    "### Solution 1\n"
   ]
  },
  {
   "cell_type": "code",
   "execution_count": 4,
   "metadata": {
    "tags": []
   },
   "outputs": [
    {
     "data": {
      "text/plain": [
       "RODBC Connection 2\n",
       "Details:\n",
       "  case=nochange\n",
       "  DRIVER={IBM DB2 ODBC DRIVER}\n",
       "  UID=pwk99009\n",
       "  PWD=******\n",
       "  DATABASE=bludb\n",
       "  HOSTNAME=21fecfd8-47b7-4937-840d-d791d0218660.bs2io90l08kqb1od8lcg.databases.appdomain.cloud\n",
       "  PORT=31864\n",
       "  PROTOCOL=TCPIP\n",
       "  SECURITY=SSL"
      ]
     },
     "metadata": {},
     "output_type": "display_data"
    }
   ],
   "source": [
    "# Establish database connection\n",
    "dsn_driver = \"com.ibm.db2.jcc.DB2Driver\"\n",
    "dsn_database = \"bludb\"\n",
    "dsn_hostname = \"***\"\n",
    "dsn_port = \"***\"\n",
    "dsn_protocol = \"TCPIP\"\n",
    "dsn_uid = \"****\"\n",
    "dsn_pwd = \"*****\"\n",
    "dsn_security = \"ssl\"\n",
    "\n",
    "conn_path = paste(\"DRIVER={IBM DB2 ODBC DRIVER}\",\n",
    "                  \";DATABASE=\",dsn_database,\n",
    "                  \";HOSTNAME=\",dsn_hostname,\n",
    "                  \";PORT=\",dsn_port,\n",
    "                  \";PROTOCOL=\",dsn_protocol,\n",
    "                  \";UID=\",dsn_uid,\n",
    "                  \";PWD=\",dsn_pwd,\n",
    "                  \";SECURITY=\",dsn_security,        \n",
    "                    sep=\"\")\n",
    "conn = odbcDriverConnect(conn_path, believeNRows = FALSE)\n",
    "conn"
   ]
  },
  {
   "cell_type": "code",
   "execution_count": 7,
   "metadata": {
    "tags": []
   },
   "outputs": [
    {
     "name": "stdout",
     "output_type": "stream",
     "text": [
      "Table:  CROP_DATA  was dropped\n",
      "Table:  FARM_PRICES  was dropped\n",
      "Table:  DAILY_FX  does not exist\n",
      "Table:  MONTHLY_FX  does not exist\n"
     ]
    }
   ],
   "source": [
    "tables <- c(\"CROP_DATA\", \"FARM_PRICES\", \"DAILY_FX\", \"MONTHLY_FX\")\n",
    "\n",
    "for (table in tables) {\n",
    "        # Drop tables if they already exist\n",
    "        out <- sqlTables(conn, tableType = \"TABLE\",\n",
    "                          tableName = table)\n",
    "        if (nrow(out)>0) {\n",
    "            err <- sqlDrop(conn, table,\n",
    "                            errors=FALSE)  \n",
    "            if (err==-1) {\n",
    "                cat(\"An error has occurred.\\n\")\n",
    "                err.msg <- odbcGetErrMsg(conn)\n",
    "                for (error in err.msg) { \n",
    "                    cat(error,\"\\n\")\n",
    "                }\n",
    "            } \n",
    "            else {\n",
    "                cat (\"Table: \",table,\" was dropped\\n\")\n",
    "            }\n",
    "        }\n",
    "        else {\n",
    "              cat (\"Table: \", table,\" does not exist\\n\")\n",
    "        }\n",
    "    }"
   ]
  },
  {
   "cell_type": "code",
   "execution_count": 8,
   "metadata": {
    "tags": []
   },
   "outputs": [
    {
     "name": "stdout",
     "output_type": "stream",
     "text": [
      "Table was created successfully.\n"
     ]
    }
   ],
   "source": [
    "# CROP_DATA:\n",
    "myquery <-\"CREATE TABLE CROP_DATA (\n",
    "            CD_ID INTEGER NOT NULL,\n",
    "            YEAR DATE NOT NULL,\n",
    "            CROP_TYPE VARCHAR(20) NOT NULL,\n",
    "            GEO VARCHAR(20) NOT NULL, \n",
    "            SEEDED_AREA INTEGER NOT NULL,\n",
    "            HARVESTED_AREA INTEGER NOT NULL,\n",
    "            PRODUCTION INTEGER NOT NULL,\n",
    "            AVG_YIELD INTEGER NOT NULL,\n",
    "            PRIMARY KEY (CD_ID)\n",
    "            )\"\n",
    "\n",
    "df1 <- sqlQuery(conn, myquery, errors=FALSE)\n",
    "\n",
    "if (df1 == -1){\n",
    "        cat (\"An error has occurred.\\n\")\n",
    "        msg <- odbcGetErrMsg(conn)\n",
    "        print (msg)\n",
    "    } else {\n",
    "        cat (\"Table was created successfully.\\n\")\n",
    "    }"
   ]
  },
  {
   "cell_type": "code",
   "execution_count": 9,
   "metadata": {
    "tags": []
   },
   "outputs": [
    {
     "name": "stdout",
     "output_type": "stream",
     "text": [
      "Table was created successfully.\n"
     ]
    }
   ],
   "source": [
    "# FARM_PRICES:\n",
    "myquery <-\"CREATE TABLE FARM_PRICES (\n",
    "            CD_ID INTEGER NOT NULL,\n",
    "            DATE DATE NOT NULL,\n",
    "            CROP_TYPE VARCHAR(20) NOT NULL,\n",
    "            GEO VARCHAR(20) NOT NULL,\n",
    "            PRICE_PRERMT FLOAT(6) NOT NULL,\n",
    "            PRIMARY KEY (CD_ID)\n",
    "            )\"\n",
    "\n",
    "df2 <- sqlQuery(conn, myquery, errors=FALSE)\n",
    "\n",
    "if (df2 == -1){\n",
    "        cat (\"An error has occurred.\\n\")\n",
    "        msg <- odbcGetErrMsg(conn)\n",
    "        print (msg)\n",
    "    } else {\n",
    "        cat (\"Table was created successfully.\\n\")\n",
    "    }"
   ]
  },
  {
   "cell_type": "code",
   "execution_count": 10,
   "metadata": {
    "tags": []
   },
   "outputs": [
    {
     "name": "stdout",
     "output_type": "stream",
     "text": [
      "Table was created successfully.\n"
     ]
    }
   ],
   "source": [
    "# DAILY_FX:\n",
    "df3 <- sqlQuery(conn, \"CREATE TABLE DAILY_FX (\n",
    "                                DFX_ID INTEGER NOT NULL,\n",
    "                                DATE DATE NOT NULL, \n",
    "                                FXUSDCAD FLOAT(6),\n",
    "                                PRIMARY KEY (DFX_ID)\n",
    "                                )\",\n",
    "                    errors=FALSE\n",
    "                    )\n",
    "\n",
    "    if (df3 == -1){\n",
    "        cat (\"An error has occurred.\\n\")\n",
    "        msg <- odbcGetErrMsg(conn)\n",
    "        print (msg)\n",
    "    } else {\n",
    "        cat (\"Table was created successfully.\\n\")\n",
    "    }"
   ]
  },
  {
   "cell_type": "code",
   "execution_count": 12,
   "metadata": {
    "tags": []
   },
   "outputs": [
    {
     "name": "stdout",
     "output_type": "stream",
     "text": [
      "Table was created successfully.\n"
     ]
    }
   ],
   "source": [
    "# MONTHLY_FX:\n",
    "df4 <- sqlQuery(conn, \"CREATE TABLE MONTHLY_FX (\n",
    "                                DFX_ID INTEGER NOT NULL,\n",
    "                                DATE DATE NOT NULL, \n",
    "                                FXUSDCAD FLOAT(6),\n",
    "                                PRIMARY KEY (DFX_ID)\n",
    "                                )\",\n",
    "                    errors=FALSE\n",
    "                    )\n",
    "\n",
    "    if (df4 == -1){\n",
    "        cat (\"An error has occurred.\\n\")\n",
    "        msg <- odbcGetErrMsg(conn)\n",
    "        print (msg)\n",
    "    } else {\n",
    "        cat (\"Table was created successfully.\\n\")\n",
    "    }"
   ]
  },
  {
   "cell_type": "markdown",
   "metadata": {},
   "source": [
    "## Problem 2\n",
    "#### Read Datasets and Load Tables\n",
    "Read the datasets into R dataframes using the urls provided above. Then load your tables.\n"
   ]
  },
  {
   "cell_type": "markdown",
   "metadata": {},
   "source": [
    "###  Solution 2\n"
   ]
  },
  {
   "cell_type": "code",
   "execution_count": 13,
   "metadata": {
    "tags": []
   },
   "outputs": [],
   "source": [
    "crop_df <- read.csv('https://cf-courses-data.s3.us.cloud-object-storage.appdomain.cloud/IBM-RP0203EN-SkillsNetwork/labs/Final%20Project/Annual_Crop_Data.csv', colClasses=c(YEAR=\"character\"))\n",
    "farmprices_df <- read.csv('https://cf-courses-data.s3.us.cloud-object-storage.appdomain.cloud/IBM-RP0203EN-SkillsNetwork/labs/Final%20Project/Monthly_Farm_Prices.csv', colClasses=c(DATE=\"character\"))\n",
    "dailyfx_df <- read.csv('https://cf-courses-data.s3.us.cloud-object-storage.appdomain.cloud/IBM-RP0203EN-SkillsNetwork/labs/Final%20Project/Daily_FX.csv', colClasses=c(DATE=\"character\"))\n",
    "monthlyfx_df <- read.csv('https://cf-courses-data.s3.us.cloud-object-storage.appdomain.cloud/IBM-RP0203EN-SkillsNetwork/labs/Final%20Project/Monthly_FX.csv', colClasses=c(DATE=\"character\"))"
   ]
  },
  {
   "cell_type": "code",
   "execution_count": 14,
   "metadata": {
    "tags": []
   },
   "outputs": [],
   "source": [
    "tables <- c(\"crop_df\", \"farmprices_df\", \"dailyfx_df\", \"monthlyfx_df\")\n",
    "sql_tables <- c(\"CROP_DATA\", \"FARM_PRICES\",\"DAILY_FX\", \"MONTHLY_FX\")\n",
    "for (i in 1:length(tables)) {\n",
    "  table_name <- tables[i]\n",
    "  sql_table_name <- sql_tables[i]\n",
    "  \n",
    "  # Execute the sqlSave command\n",
    "  sqlSave(conn, get(table_name), sql_table_name, append = TRUE, fast = FALSE, rownames = FALSE, colnames = FALSE, verbose = FALSE)\n",
    "}"
   ]
  },
  {
   "cell_type": "code",
   "execution_count": 3,
   "metadata": {
    "tags": []
   },
   "outputs": [
    {
     "data": {
      "text/html": [
       "10"
      ],
      "text/latex": [
       "10"
      ],
      "text/markdown": [
       "10"
      ],
      "text/plain": [
       "[1] 10"
      ]
     },
     "metadata": {},
     "output_type": "display_data"
    },
    {
     "data": {
      "text/html": [
       "<style>\n",
       ".list-inline {list-style: none; margin:0; padding: 0}\n",
       ".list-inline>li {display: inline-block}\n",
       ".list-inline>li:not(:last-child)::after {content: \"\\00b7\"; padding: 0 .5ex}\n",
       "</style>\n",
       "<ol class=list-inline><li>'BIKE_SHARING_SYSTEMS'</li><li>'BOARD'</li><li>'CITIES_WEATHER_FORECAST'</li><li>'CROP_DATA'</li><li>'DAILY_FX'</li><li>'FARM_PRICES'</li><li>'MONTHLY_FX'</li><li>'SCHOOL'</li><li>'SEOUL_BIKE_SHARING'</li><li>'WORLD_CITIES'</li></ol>\n"
      ],
      "text/latex": [
       "\\begin{enumerate*}\n",
       "\\item 'BIKE\\_SHARING\\_SYSTEMS'\n",
       "\\item 'BOARD'\n",
       "\\item 'CITIES\\_WEATHER\\_FORECAST'\n",
       "\\item 'CROP\\_DATA'\n",
       "\\item 'DAILY\\_FX'\n",
       "\\item 'FARM\\_PRICES'\n",
       "\\item 'MONTHLY\\_FX'\n",
       "\\item 'SCHOOL'\n",
       "\\item 'SEOUL\\_BIKE\\_SHARING'\n",
       "\\item 'WORLD\\_CITIES'\n",
       "\\end{enumerate*}\n"
      ],
      "text/markdown": [
       "1. 'BIKE_SHARING_SYSTEMS'\n",
       "2. 'BOARD'\n",
       "3. 'CITIES_WEATHER_FORECAST'\n",
       "4. 'CROP_DATA'\n",
       "5. 'DAILY_FX'\n",
       "6. 'FARM_PRICES'\n",
       "7. 'MONTHLY_FX'\n",
       "8. 'SCHOOL'\n",
       "9. 'SEOUL_BIKE_SHARING'\n",
       "10. 'WORLD_CITIES'\n",
       "\n",
       "\n"
      ],
      "text/plain": [
       " [1] \"BIKE_SHARING_SYSTEMS\"    \"BOARD\"                  \n",
       " [3] \"CITIES_WEATHER_FORECAST\" \"CROP_DATA\"              \n",
       " [5] \"DAILY_FX\"                \"FARM_PRICES\"            \n",
       " [7] \"MONTHLY_FX\"              \"SCHOOL\"                 \n",
       " [9] \"SEOUL_BIKE_SHARING\"      \"WORLD_CITIES\"           "
      ]
     },
     "metadata": {},
     "output_type": "display_data"
    }
   ],
   "source": [
    "tab.frame <- sqlTables(conn, schema=\"PWK99009\")\n",
    "nrow(tab.frame)\n",
    "tab.frame$TABLE_NAME"
   ]
  },
  {
   "cell_type": "markdown",
   "metadata": {},
   "source": [
    "## Now execute SQL queries using the RODBC R package to solve the assignment problems.\n",
    "\n",
    "## Problem 3\n",
    "#### How many records are in the farm prices dataset?\n"
   ]
  },
  {
   "cell_type": "markdown",
   "metadata": {},
   "source": [
    "### Solution 3\n"
   ]
  },
  {
   "cell_type": "code",
   "execution_count": 17,
   "metadata": {
    "tags": []
   },
   "outputs": [
    {
     "data": {
      "text/html": [
       "<table>\n",
       "<caption>A data.frame: 1 × 1</caption>\n",
       "<thead>\n",
       "\t<tr><th></th><th scope=col>RECORDS</th></tr>\n",
       "\t<tr><th></th><th scope=col>&lt;int&gt;</th></tr>\n",
       "</thead>\n",
       "<tbody>\n",
       "\t<tr><th scope=row>1</th><td>2678</td></tr>\n",
       "</tbody>\n",
       "</table>\n"
      ],
      "text/latex": [
       "A data.frame: 1 × 1\n",
       "\\begin{tabular}{r|l}\n",
       "  & RECORDS\\\\\n",
       "  & <int>\\\\\n",
       "\\hline\n",
       "\t1 & 2678\\\\\n",
       "\\end{tabular}\n"
      ],
      "text/markdown": [
       "\n",
       "A data.frame: 1 × 1\n",
       "\n",
       "| <!--/--> | RECORDS &lt;int&gt; |\n",
       "|---|---|\n",
       "| 1 | 2678 |\n",
       "\n"
      ],
      "text/plain": [
       "  RECORDS\n",
       "1 2678   "
      ]
     },
     "metadata": {},
     "output_type": "display_data"
    }
   ],
   "source": [
    "sqlQuery(conn, \"SELECT COUNT(CD_ID) AS RECORDS FROM FARM_PRICES;\")"
   ]
  },
  {
   "cell_type": "markdown",
   "metadata": {},
   "source": [
    "## Problem 4\n",
    "#### Which geographies are included in the farm prices dataset?\n"
   ]
  },
  {
   "cell_type": "markdown",
   "metadata": {},
   "source": [
    "### Solution 4\n"
   ]
  },
  {
   "cell_type": "code",
   "execution_count": 23,
   "metadata": {
    "tags": []
   },
   "outputs": [
    {
     "data": {
      "text/html": [
       "<table>\n",
       "<caption>A data.frame: 2 × 1</caption>\n",
       "<thead>\n",
       "\t<tr><th></th><th scope=col>DISTINCT_GEOS</th></tr>\n",
       "\t<tr><th></th><th scope=col>&lt;fct&gt;</th></tr>\n",
       "</thead>\n",
       "<tbody>\n",
       "\t<tr><th scope=row>1</th><td>Alberta     </td></tr>\n",
       "\t<tr><th scope=row>2</th><td>Saskatchewan</td></tr>\n",
       "</tbody>\n",
       "</table>\n"
      ],
      "text/latex": [
       "A data.frame: 2 × 1\n",
       "\\begin{tabular}{r|l}\n",
       "  & DISTINCT\\_GEOS\\\\\n",
       "  & <fct>\\\\\n",
       "\\hline\n",
       "\t1 & Alberta     \\\\\n",
       "\t2 & Saskatchewan\\\\\n",
       "\\end{tabular}\n"
      ],
      "text/markdown": [
       "\n",
       "A data.frame: 2 × 1\n",
       "\n",
       "| <!--/--> | DISTINCT_GEOS &lt;fct&gt; |\n",
       "|---|---|\n",
       "| 1 | Alberta      |\n",
       "| 2 | Saskatchewan |\n",
       "\n"
      ],
      "text/plain": [
       "  DISTINCT_GEOS\n",
       "1 Alberta      \n",
       "2 Saskatchewan "
      ]
     },
     "metadata": {},
     "output_type": "display_data"
    }
   ],
   "source": [
    "sqlQuery(conn, \"SELECT DISTINCT(GEO) AS DISTINCT_GEOS FROM FARM_PRICES;\")"
   ]
  },
  {
   "cell_type": "markdown",
   "metadata": {},
   "source": [
    "## Problem 5\n",
    "#### How many hectares of Rye were harvested in Canada in 1968?\n"
   ]
  },
  {
   "cell_type": "markdown",
   "metadata": {},
   "source": [
    "### Solution 5\n"
   ]
  },
  {
   "cell_type": "code",
   "execution_count": 26,
   "metadata": {
    "tags": []
   },
   "outputs": [
    {
     "data": {
      "text/html": [
       "<table>\n",
       "<caption>A data.frame: 1 × 1</caption>\n",
       "<thead>\n",
       "\t<tr><th></th><th scope=col>TOTAL_HARVESTED_AREA_1968</th></tr>\n",
       "\t<tr><th></th><th scope=col>&lt;int&gt;</th></tr>\n",
       "</thead>\n",
       "<tbody>\n",
       "\t<tr><th scope=row>1</th><td>29984800</td></tr>\n",
       "</tbody>\n",
       "</table>\n"
      ],
      "text/latex": [
       "A data.frame: 1 × 1\n",
       "\\begin{tabular}{r|l}\n",
       "  & TOTAL\\_HARVESTED\\_AREA\\_1968\\\\\n",
       "  & <int>\\\\\n",
       "\\hline\n",
       "\t1 & 29984800\\\\\n",
       "\\end{tabular}\n"
      ],
      "text/markdown": [
       "\n",
       "A data.frame: 1 × 1\n",
       "\n",
       "| <!--/--> | TOTAL_HARVESTED_AREA_1968 &lt;int&gt; |\n",
       "|---|---|\n",
       "| 1 | 29984800 |\n",
       "\n"
      ],
      "text/plain": [
       "  TOTAL_HARVESTED_AREA_1968\n",
       "1 29984800                 "
      ]
     },
     "metadata": {},
     "output_type": "display_data"
    }
   ],
   "source": [
    "sqlQuery(conn, \"SELECT SUM(HARVESTED_AREA) AS TOTAL_HARVESTED_AREA_1968 FROM CROP_DATA WHERE YEAR(YEAR)=1968;\")"
   ]
  },
  {
   "cell_type": "markdown",
   "metadata": {},
   "source": [
    "## Problem 6\n",
    "#### Query and display the first 6 rows of the farm prices table for Rye.\n"
   ]
  },
  {
   "cell_type": "markdown",
   "metadata": {},
   "source": [
    "### Solution 6\n"
   ]
  },
  {
   "cell_type": "code",
   "execution_count": 27,
   "metadata": {
    "tags": []
   },
   "outputs": [
    {
     "data": {
      "text/html": [
       "<table>\n",
       "<caption>A data.frame: 6 × 5</caption>\n",
       "<thead>\n",
       "\t<tr><th></th><th scope=col>CD_ID</th><th scope=col>DATE</th><th scope=col>CROP_TYPE</th><th scope=col>GEO</th><th scope=col>PRICE_PRERMT</th></tr>\n",
       "\t<tr><th></th><th scope=col>&lt;int&gt;</th><th scope=col>&lt;date&gt;</th><th scope=col>&lt;fct&gt;</th><th scope=col>&lt;fct&gt;</th><th scope=col>&lt;dbl&gt;</th></tr>\n",
       "</thead>\n",
       "<tbody>\n",
       "\t<tr><th scope=row>1</th><td> 4</td><td>1985-01-01</td><td>Rye</td><td>Alberta     </td><td>100.77</td></tr>\n",
       "\t<tr><th scope=row>2</th><td> 5</td><td>1985-01-01</td><td>Rye</td><td>Saskatchewan</td><td>109.75</td></tr>\n",
       "\t<tr><th scope=row>3</th><td>10</td><td>1985-02-01</td><td>Rye</td><td>Alberta     </td><td> 95.05</td></tr>\n",
       "\t<tr><th scope=row>4</th><td>11</td><td>1985-02-01</td><td>Rye</td><td>Saskatchewan</td><td>103.46</td></tr>\n",
       "\t<tr><th scope=row>5</th><td>16</td><td>1985-03-01</td><td>Rye</td><td>Alberta     </td><td> 96.77</td></tr>\n",
       "\t<tr><th scope=row>6</th><td>17</td><td>1985-03-01</td><td>Rye</td><td>Saskatchewan</td><td>106.38</td></tr>\n",
       "</tbody>\n",
       "</table>\n"
      ],
      "text/latex": [
       "A data.frame: 6 × 5\n",
       "\\begin{tabular}{r|lllll}\n",
       "  & CD\\_ID & DATE & CROP\\_TYPE & GEO & PRICE\\_PRERMT\\\\\n",
       "  & <int> & <date> & <fct> & <fct> & <dbl>\\\\\n",
       "\\hline\n",
       "\t1 &  4 & 1985-01-01 & Rye & Alberta      & 100.77\\\\\n",
       "\t2 &  5 & 1985-01-01 & Rye & Saskatchewan & 109.75\\\\\n",
       "\t3 & 10 & 1985-02-01 & Rye & Alberta      &  95.05\\\\\n",
       "\t4 & 11 & 1985-02-01 & Rye & Saskatchewan & 103.46\\\\\n",
       "\t5 & 16 & 1985-03-01 & Rye & Alberta      &  96.77\\\\\n",
       "\t6 & 17 & 1985-03-01 & Rye & Saskatchewan & 106.38\\\\\n",
       "\\end{tabular}\n"
      ],
      "text/markdown": [
       "\n",
       "A data.frame: 6 × 5\n",
       "\n",
       "| <!--/--> | CD_ID &lt;int&gt; | DATE &lt;date&gt; | CROP_TYPE &lt;fct&gt; | GEO &lt;fct&gt; | PRICE_PRERMT &lt;dbl&gt; |\n",
       "|---|---|---|---|---|---|\n",
       "| 1 |  4 | 1985-01-01 | Rye | Alberta      | 100.77 |\n",
       "| 2 |  5 | 1985-01-01 | Rye | Saskatchewan | 109.75 |\n",
       "| 3 | 10 | 1985-02-01 | Rye | Alberta      |  95.05 |\n",
       "| 4 | 11 | 1985-02-01 | Rye | Saskatchewan | 103.46 |\n",
       "| 5 | 16 | 1985-03-01 | Rye | Alberta      |  96.77 |\n",
       "| 6 | 17 | 1985-03-01 | Rye | Saskatchewan | 106.38 |\n",
       "\n"
      ],
      "text/plain": [
       "  CD_ID DATE       CROP_TYPE GEO          PRICE_PRERMT\n",
       "1  4    1985-01-01 Rye       Alberta      100.77      \n",
       "2  5    1985-01-01 Rye       Saskatchewan 109.75      \n",
       "3 10    1985-02-01 Rye       Alberta       95.05      \n",
       "4 11    1985-02-01 Rye       Saskatchewan 103.46      \n",
       "5 16    1985-03-01 Rye       Alberta       96.77      \n",
       "6 17    1985-03-01 Rye       Saskatchewan 106.38      "
      ]
     },
     "metadata": {},
     "output_type": "display_data"
    }
   ],
   "source": [
    "sqlQuery(conn, \"SELECT * FROM FARM_PRICES WHERE CROP_TYPE='Rye' LIMIT 6;\")"
   ]
  },
  {
   "cell_type": "markdown",
   "metadata": {},
   "source": [
    "## Problem 7\n",
    "#### Which provinces grew Barley? \n"
   ]
  },
  {
   "cell_type": "markdown",
   "metadata": {},
   "source": [
    "### Solution 7\n"
   ]
  },
  {
   "cell_type": "code",
   "execution_count": 31,
   "metadata": {
    "tags": []
   },
   "outputs": [
    {
     "data": {
      "text/html": [
       "<table>\n",
       "<caption>A data.frame: 2 × 1</caption>\n",
       "<thead>\n",
       "\t<tr><th></th><th scope=col>BARLEY_PROVINCES</th></tr>\n",
       "\t<tr><th></th><th scope=col>&lt;fct&gt;</th></tr>\n",
       "</thead>\n",
       "<tbody>\n",
       "\t<tr><th scope=row>1</th><td>Alberta     </td></tr>\n",
       "\t<tr><th scope=row>2</th><td>Saskatchewan</td></tr>\n",
       "</tbody>\n",
       "</table>\n"
      ],
      "text/latex": [
       "A data.frame: 2 × 1\n",
       "\\begin{tabular}{r|l}\n",
       "  & BARLEY\\_PROVINCES\\\\\n",
       "  & <fct>\\\\\n",
       "\\hline\n",
       "\t1 & Alberta     \\\\\n",
       "\t2 & Saskatchewan\\\\\n",
       "\\end{tabular}\n"
      ],
      "text/markdown": [
       "\n",
       "A data.frame: 2 × 1\n",
       "\n",
       "| <!--/--> | BARLEY_PROVINCES &lt;fct&gt; |\n",
       "|---|---|\n",
       "| 1 | Alberta      |\n",
       "| 2 | Saskatchewan |\n",
       "\n"
      ],
      "text/plain": [
       "  BARLEY_PROVINCES\n",
       "1 Alberta         \n",
       "2 Saskatchewan    "
      ]
     },
     "metadata": {},
     "output_type": "display_data"
    }
   ],
   "source": [
    "sqlQuery(conn, \"SELECT DISTINCT(GEO) AS BARLEY_PROVINCES FROM FARM_PRICES WHERE CROP_TYPE='Barley';\")"
   ]
  },
  {
   "cell_type": "markdown",
   "metadata": {},
   "source": [
    "## Problem 8\n",
    "#### Find the first and last dates for the farm prices data.\n"
   ]
  },
  {
   "cell_type": "markdown",
   "metadata": {},
   "source": [
    "### Solution 8\n"
   ]
  },
  {
   "cell_type": "code",
   "execution_count": 33,
   "metadata": {
    "tags": []
   },
   "outputs": [
    {
     "data": {
      "text/html": [
       "<table>\n",
       "<caption>A data.frame: 1 × 2</caption>\n",
       "<thead>\n",
       "\t<tr><th></th><th scope=col>MIN_DATE</th><th scope=col>MAX_DATE</th></tr>\n",
       "\t<tr><th></th><th scope=col>&lt;date&gt;</th><th scope=col>&lt;date&gt;</th></tr>\n",
       "</thead>\n",
       "<tbody>\n",
       "\t<tr><th scope=row>1</th><td>1985-01-01</td><td>2020-12-01</td></tr>\n",
       "</tbody>\n",
       "</table>\n"
      ],
      "text/latex": [
       "A data.frame: 1 × 2\n",
       "\\begin{tabular}{r|ll}\n",
       "  & MIN\\_DATE & MAX\\_DATE\\\\\n",
       "  & <date> & <date>\\\\\n",
       "\\hline\n",
       "\t1 & 1985-01-01 & 2020-12-01\\\\\n",
       "\\end{tabular}\n"
      ],
      "text/markdown": [
       "\n",
       "A data.frame: 1 × 2\n",
       "\n",
       "| <!--/--> | MIN_DATE &lt;date&gt; | MAX_DATE &lt;date&gt; |\n",
       "|---|---|---|\n",
       "| 1 | 1985-01-01 | 2020-12-01 |\n",
       "\n"
      ],
      "text/plain": [
       "  MIN_DATE   MAX_DATE  \n",
       "1 1985-01-01 2020-12-01"
      ]
     },
     "metadata": {},
     "output_type": "display_data"
    }
   ],
   "source": [
    "sqlQuery(conn, \"SELECT MIN(DATE) AS MIN_DATE, MAX(DATE) AS MAX_DATE FROM FARM_PRICES;\")"
   ]
  },
  {
   "cell_type": "code",
   "execution_count": 64,
   "metadata": {
    "tags": []
   },
   "outputs": [
    {
     "data": {
      "text/html": [
       "<table>\n",
       "<caption>A data.frame: 1 × 2</caption>\n",
       "<thead>\n",
       "\t<tr><th></th><th scope=col>MIN_DATE</th><th scope=col>MAX_DATE</th></tr>\n",
       "\t<tr><th></th><th scope=col>&lt;date&gt;</th><th scope=col>&lt;date&gt;</th></tr>\n",
       "</thead>\n",
       "<tbody>\n",
       "\t<tr><th scope=row>1</th><td>1965-12-31</td><td>2020-12-31</td></tr>\n",
       "</tbody>\n",
       "</table>\n"
      ],
      "text/latex": [
       "A data.frame: 1 × 2\n",
       "\\begin{tabular}{r|ll}\n",
       "  & MIN\\_DATE & MAX\\_DATE\\\\\n",
       "  & <date> & <date>\\\\\n",
       "\\hline\n",
       "\t1 & 1965-12-31 & 2020-12-31\\\\\n",
       "\\end{tabular}\n"
      ],
      "text/markdown": [
       "\n",
       "A data.frame: 1 × 2\n",
       "\n",
       "| <!--/--> | MIN_DATE &lt;date&gt; | MAX_DATE &lt;date&gt; |\n",
       "|---|---|---|\n",
       "| 1 | 1965-12-31 | 2020-12-31 |\n",
       "\n"
      ],
      "text/plain": [
       "  MIN_DATE   MAX_DATE  \n",
       "1 1965-12-31 2020-12-31"
      ]
     },
     "metadata": {},
     "output_type": "display_data"
    }
   ],
   "source": [
    "sqlQuery(conn, \"SELECT MIN(YEAR) AS MIN_DATE, MAX(YEAR) AS MAX_DATE FROM CROP_DATA;\")"
   ]
  },
  {
   "cell_type": "markdown",
   "metadata": {},
   "source": [
    "## Problem 9\n",
    "#### Which crops have ever reached a farm price greater than or equal to &#0036;350 per metric tonne?\n"
   ]
  },
  {
   "cell_type": "markdown",
   "metadata": {},
   "source": [
    "### Solution 9\n"
   ]
  },
  {
   "cell_type": "code",
   "execution_count": 34,
   "metadata": {
    "tags": []
   },
   "outputs": [
    {
     "data": {
      "text/html": [
       "<table>\n",
       "<caption>A data.frame: 1 × 1</caption>\n",
       "<thead>\n",
       "\t<tr><th></th><th scope=col>CROPS_ATLEAST$350</th></tr>\n",
       "\t<tr><th></th><th scope=col>&lt;fct&gt;</th></tr>\n",
       "</thead>\n",
       "<tbody>\n",
       "\t<tr><th scope=row>1</th><td>Canola</td></tr>\n",
       "</tbody>\n",
       "</table>\n"
      ],
      "text/latex": [
       "A data.frame: 1 × 1\n",
       "\\begin{tabular}{r|l}\n",
       "  & CROPS\\_ATLEAST\\$350\\\\\n",
       "  & <fct>\\\\\n",
       "\\hline\n",
       "\t1 & Canola\\\\\n",
       "\\end{tabular}\n"
      ],
      "text/markdown": [
       "\n",
       "A data.frame: 1 × 1\n",
       "\n",
       "| <!--/--> | CROPS_ATLEAST$350 &lt;fct&gt; |\n",
       "|---|---|\n",
       "| 1 | Canola |\n",
       "\n"
      ],
      "text/plain": [
       "  CROPS_ATLEAST$350\n",
       "1 Canola           "
      ]
     },
     "metadata": {},
     "output_type": "display_data"
    }
   ],
   "source": [
    "sqlQuery(conn, \"SELECT DISTINCT(CROP_TYPE) AS CROPS_ATLEAST$350 FROM FARM_PRICES WHERE PRICE_PRERMT>=350;\")"
   ]
  },
  {
   "cell_type": "markdown",
   "metadata": {},
   "source": [
    "## Problem 10\n",
    "#### Rank the crop types harvested in Saskatchewan in the year 2000 by their average yield. Which crop performed best? \n"
   ]
  },
  {
   "cell_type": "markdown",
   "metadata": {},
   "source": [
    "### Solution 10\n"
   ]
  },
  {
   "cell_type": "code",
   "execution_count": 51,
   "metadata": {
    "tags": []
   },
   "outputs": [
    {
     "data": {
      "text/html": [
       "<table>\n",
       "<caption>A data.frame: 4 × 2</caption>\n",
       "<thead>\n",
       "\t<tr><th></th><th scope=col>CROP_TYPE</th><th scope=col>AVG_YIELD_2000</th></tr>\n",
       "\t<tr><th></th><th scope=col>&lt;fct&gt;</th><th scope=col>&lt;int&gt;</th></tr>\n",
       "</thead>\n",
       "<tbody>\n",
       "\t<tr><th scope=row>1</th><td>Barley</td><td>2933</td></tr>\n",
       "\t<tr><th scope=row>2</th><td>Wheat </td><td>2366</td></tr>\n",
       "\t<tr><th scope=row>3</th><td>Rye   </td><td>2166</td></tr>\n",
       "\t<tr><th scope=row>4</th><td>Canola</td><td>1466</td></tr>\n",
       "</tbody>\n",
       "</table>\n"
      ],
      "text/latex": [
       "A data.frame: 4 × 2\n",
       "\\begin{tabular}{r|ll}\n",
       "  & CROP\\_TYPE & AVG\\_YIELD\\_2000\\\\\n",
       "  & <fct> & <int>\\\\\n",
       "\\hline\n",
       "\t1 & Barley & 2933\\\\\n",
       "\t2 & Wheat  & 2366\\\\\n",
       "\t3 & Rye    & 2166\\\\\n",
       "\t4 & Canola & 1466\\\\\n",
       "\\end{tabular}\n"
      ],
      "text/markdown": [
       "\n",
       "A data.frame: 4 × 2\n",
       "\n",
       "| <!--/--> | CROP_TYPE &lt;fct&gt; | AVG_YIELD_2000 &lt;int&gt; |\n",
       "|---|---|---|\n",
       "| 1 | Barley | 2933 |\n",
       "| 2 | Wheat  | 2366 |\n",
       "| 3 | Rye    | 2166 |\n",
       "| 4 | Canola | 1466 |\n",
       "\n"
      ],
      "text/plain": [
       "  CROP_TYPE AVG_YIELD_2000\n",
       "1 Barley    2933          \n",
       "2 Wheat     2366          \n",
       "3 Rye       2166          \n",
       "4 Canola    1466          "
      ]
     },
     "metadata": {},
     "output_type": "display_data"
    }
   ],
   "source": [
    "sqlQuery(conn, \"SELECT CROP_TYPE, \n",
    "                    AVG(AVG_YIELD) AS AVG_YIELD_2000 \n",
    "                FROM CROP_DATA \n",
    "                WHERE YEAR(YEAR)=2000 \n",
    "                GROUP BY CROP_TYPE\n",
    "                ORDER BY AVG(AVG_YIELD) DESC;\")\n",
    "\n",
    "# Barley performed best"
   ]
  },
  {
   "cell_type": "markdown",
   "metadata": {},
   "source": [
    "## Problem 11\n",
    "#### Rank the crops and geographies by their average yield (KG per hectare) since the year 2000. Which crop and province had the highest average yield since the year 2000? \n"
   ]
  },
  {
   "cell_type": "markdown",
   "metadata": {},
   "source": [
    "### Solution 11\n"
   ]
  },
  {
   "cell_type": "code",
   "execution_count": 52,
   "metadata": {
    "tags": []
   },
   "outputs": [
    {
     "data": {
      "text/html": [
       "<table>\n",
       "<caption>A data.frame: 12 × 3</caption>\n",
       "<thead>\n",
       "\t<tr><th></th><th scope=col>CROP_TYPE</th><th scope=col>GEO</th><th scope=col>AVG_YIELD_SINCE_2000</th></tr>\n",
       "\t<tr><th></th><th scope=col>&lt;fct&gt;</th><th scope=col>&lt;fct&gt;</th><th scope=col>&lt;int&gt;</th></tr>\n",
       "</thead>\n",
       "<tbody>\n",
       "\t<tr><th scope=row>1</th><td>Barley</td><td>Alberta     </td><td>3450</td></tr>\n",
       "\t<tr><th scope=row>2</th><td>Barley</td><td>Canada      </td><td>3253</td></tr>\n",
       "\t<tr><th scope=row>3</th><td>Wheat </td><td>Alberta     </td><td>3100</td></tr>\n",
       "\t<tr><th scope=row>4</th><td>Barley</td><td>Saskatchewan</td><td>2971</td></tr>\n",
       "\t<tr><th scope=row>5</th><td>Wheat </td><td>Canada      </td><td>2845</td></tr>\n",
       "\t<tr><th scope=row>6</th><td>Rye   </td><td>Alberta     </td><td>2683</td></tr>\n",
       "\t<tr><th scope=row>7</th><td>Rye   </td><td>Canada      </td><td>2543</td></tr>\n",
       "\t<tr><th scope=row>8</th><td>Wheat </td><td>Saskatchewan</td><td>2429</td></tr>\n",
       "\t<tr><th scope=row>9</th><td>Rye   </td><td>Saskatchewan</td><td>2226</td></tr>\n",
       "\t<tr><th scope=row>10</th><td>Canola</td><td>Alberta     </td><td>1999</td></tr>\n",
       "\t<tr><th scope=row>11</th><td>Canola</td><td>Canada      </td><td>1873</td></tr>\n",
       "\t<tr><th scope=row>12</th><td>Canola</td><td>Saskatchewan</td><td>1754</td></tr>\n",
       "</tbody>\n",
       "</table>\n"
      ],
      "text/latex": [
       "A data.frame: 12 × 3\n",
       "\\begin{tabular}{r|lll}\n",
       "  & CROP\\_TYPE & GEO & AVG\\_YIELD\\_SINCE\\_2000\\\\\n",
       "  & <fct> & <fct> & <int>\\\\\n",
       "\\hline\n",
       "\t1 & Barley & Alberta      & 3450\\\\\n",
       "\t2 & Barley & Canada       & 3253\\\\\n",
       "\t3 & Wheat  & Alberta      & 3100\\\\\n",
       "\t4 & Barley & Saskatchewan & 2971\\\\\n",
       "\t5 & Wheat  & Canada       & 2845\\\\\n",
       "\t6 & Rye    & Alberta      & 2683\\\\\n",
       "\t7 & Rye    & Canada       & 2543\\\\\n",
       "\t8 & Wheat  & Saskatchewan & 2429\\\\\n",
       "\t9 & Rye    & Saskatchewan & 2226\\\\\n",
       "\t10 & Canola & Alberta      & 1999\\\\\n",
       "\t11 & Canola & Canada       & 1873\\\\\n",
       "\t12 & Canola & Saskatchewan & 1754\\\\\n",
       "\\end{tabular}\n"
      ],
      "text/markdown": [
       "\n",
       "A data.frame: 12 × 3\n",
       "\n",
       "| <!--/--> | CROP_TYPE &lt;fct&gt; | GEO &lt;fct&gt; | AVG_YIELD_SINCE_2000 &lt;int&gt; |\n",
       "|---|---|---|---|\n",
       "| 1 | Barley | Alberta      | 3450 |\n",
       "| 2 | Barley | Canada       | 3253 |\n",
       "| 3 | Wheat  | Alberta      | 3100 |\n",
       "| 4 | Barley | Saskatchewan | 2971 |\n",
       "| 5 | Wheat  | Canada       | 2845 |\n",
       "| 6 | Rye    | Alberta      | 2683 |\n",
       "| 7 | Rye    | Canada       | 2543 |\n",
       "| 8 | Wheat  | Saskatchewan | 2429 |\n",
       "| 9 | Rye    | Saskatchewan | 2226 |\n",
       "| 10 | Canola | Alberta      | 1999 |\n",
       "| 11 | Canola | Canada       | 1873 |\n",
       "| 12 | Canola | Saskatchewan | 1754 |\n",
       "\n"
      ],
      "text/plain": [
       "   CROP_TYPE GEO          AVG_YIELD_SINCE_2000\n",
       "1  Barley    Alberta      3450                \n",
       "2  Barley    Canada       3253                \n",
       "3  Wheat     Alberta      3100                \n",
       "4  Barley    Saskatchewan 2971                \n",
       "5  Wheat     Canada       2845                \n",
       "6  Rye       Alberta      2683                \n",
       "7  Rye       Canada       2543                \n",
       "8  Wheat     Saskatchewan 2429                \n",
       "9  Rye       Saskatchewan 2226                \n",
       "10 Canola    Alberta      1999                \n",
       "11 Canola    Canada       1873                \n",
       "12 Canola    Saskatchewan 1754                "
      ]
     },
     "metadata": {},
     "output_type": "display_data"
    }
   ],
   "source": [
    "sqlQuery(conn, \"SELECT CROP_TYPE, GEO,\n",
    "                    AVG(AVG_YIELD) AS AVG_YIELD_SINCE_2000\n",
    "                FROM CROP_DATA \n",
    "                WHERE YEAR(YEAR)>=2000 \n",
    "                GROUP BY CROP_TYPE, GEO\n",
    "                ORDER BY AVG(AVG_YIELD) DESC;\")\n",
    "\n",
    "# Barley planted in alberta had the highest average yield"
   ]
  },
  {
   "cell_type": "markdown",
   "metadata": {},
   "source": [
    "## Problem 12\n",
    "#### Use a subquery to determine how much wheat was harvested in Canada in the most recent year of the data.\n"
   ]
  },
  {
   "cell_type": "markdown",
   "metadata": {},
   "source": [
    "### Solution 12\n"
   ]
  },
  {
   "cell_type": "code",
   "execution_count": 5,
   "metadata": {
    "tags": []
   },
   "outputs": [
    {
     "data": {
      "text/html": [
       "<table>\n",
       "<caption>A data.frame: 1 × 4</caption>\n",
       "<thead>\n",
       "\t<tr><th></th><th scope=col>CROP_TYPE</th><th scope=col>GEO</th><th scope=col>SUM_PRODUCTION</th><th scope=col>RECENT_YEAR</th></tr>\n",
       "\t<tr><th></th><th scope=col>&lt;fct&gt;</th><th scope=col>&lt;fct&gt;</th><th scope=col>&lt;int&gt;</th><th scope=col>&lt;int&gt;</th></tr>\n",
       "</thead>\n",
       "<tbody>\n",
       "\t<tr><th scope=row>1</th><td>Wheat</td><td>Canada</td><td>35183000</td><td>2020</td></tr>\n",
       "</tbody>\n",
       "</table>\n"
      ],
      "text/latex": [
       "A data.frame: 1 × 4\n",
       "\\begin{tabular}{r|llll}\n",
       "  & CROP\\_TYPE & GEO & SUM\\_PRODUCTION & RECENT\\_YEAR\\\\\n",
       "  & <fct> & <fct> & <int> & <int>\\\\\n",
       "\\hline\n",
       "\t1 & Wheat & Canada & 35183000 & 2020\\\\\n",
       "\\end{tabular}\n"
      ],
      "text/markdown": [
       "\n",
       "A data.frame: 1 × 4\n",
       "\n",
       "| <!--/--> | CROP_TYPE &lt;fct&gt; | GEO &lt;fct&gt; | SUM_PRODUCTION &lt;int&gt; | RECENT_YEAR &lt;int&gt; |\n",
       "|---|---|---|---|---|\n",
       "| 1 | Wheat | Canada | 35183000 | 2020 |\n",
       "\n"
      ],
      "text/plain": [
       "  CROP_TYPE GEO    SUM_PRODUCTION RECENT_YEAR\n",
       "1 Wheat     Canada 35183000       2020       "
      ]
     },
     "metadata": {},
     "output_type": "display_data"
    }
   ],
   "source": [
    "sqlQuery(conn, \"SELECT CROP_TYPE, GEO,\n",
    "                    SUM(PRODUCTION) AS SUM_PRODUCTION,\n",
    "                    YEAR(YEAR) AS RECENT_YEAR\n",
    "                FROM CROP_DATA\n",
    "                WHERE GEO='Canada'\n",
    "                    AND CROP_TYPE='Wheat'\n",
    "                    AND YEAR(YEAR)=(SELECT MAX(YEAR(YEAR)) FROM CROP_DATA)\n",
    "                GROUP BY CROP_TYPE, GEO, YEAR;\")\n",
    "\n",
    "# 3512"
   ]
  },
  {
   "cell_type": "markdown",
   "metadata": {},
   "source": [
    "## Problem 13\n",
    "#### Use an implicit inner join to calculate the monthly price per metric tonne of Canola grown in Saskatchewan in both Canadian and US dollars. Display the most recent 6 months of the data.\n"
   ]
  },
  {
   "cell_type": "markdown",
   "metadata": {},
   "source": [
    "### Solution 13\n"
   ]
  },
  {
   "cell_type": "code",
   "execution_count": 75,
   "metadata": {
    "tags": []
   },
   "outputs": [
    {
     "data": {
      "text/html": [
       "<table>\n",
       "<caption>A data.frame: 6 × 5</caption>\n",
       "<thead>\n",
       "\t<tr><th></th><th scope=col>CROP_TYPE</th><th scope=col>GEO</th><th scope=col>DATE</th><th scope=col>PRICE_PRERMT_CAD</th><th scope=col>PRICE_PRERMT_USD</th></tr>\n",
       "\t<tr><th></th><th scope=col>&lt;fct&gt;</th><th scope=col>&lt;fct&gt;</th><th scope=col>&lt;date&gt;</th><th scope=col>&lt;dbl&gt;</th><th scope=col>&lt;dbl&gt;</th></tr>\n",
       "</thead>\n",
       "<tbody>\n",
       "\t<tr><th scope=row>1</th><td>Canola</td><td>Saskatchewan</td><td>2020-07-01</td><td>462.88</td><td>342.9122</td></tr>\n",
       "\t<tr><th scope=row>2</th><td>Canola</td><td>Saskatchewan</td><td>2020-09-01</td><td>463.52</td><td>350.4056</td></tr>\n",
       "\t<tr><th scope=row>3</th><td>Canola</td><td>Saskatchewan</td><td>2020-08-01</td><td>464.60</td><td>351.3827</td></tr>\n",
       "\t<tr><th scope=row>4</th><td>Canola</td><td>Saskatchewan</td><td>2020-10-01</td><td>474.80</td><td>359.2966</td></tr>\n",
       "\t<tr><th scope=row>5</th><td>Canola</td><td>Saskatchewan</td><td>2020-11-01</td><td>495.64</td><td>379.2718</td></tr>\n",
       "\t<tr><th scope=row>6</th><td>Canola</td><td>Saskatchewan</td><td>2020-12-01</td><td>507.33</td><td>396.1130</td></tr>\n",
       "</tbody>\n",
       "</table>\n"
      ],
      "text/latex": [
       "A data.frame: 6 × 5\n",
       "\\begin{tabular}{r|lllll}\n",
       "  & CROP\\_TYPE & GEO & DATE & PRICE\\_PRERMT\\_CAD & PRICE\\_PRERMT\\_USD\\\\\n",
       "  & <fct> & <fct> & <date> & <dbl> & <dbl>\\\\\n",
       "\\hline\n",
       "\t1 & Canola & Saskatchewan & 2020-07-01 & 462.88 & 342.9122\\\\\n",
       "\t2 & Canola & Saskatchewan & 2020-09-01 & 463.52 & 350.4056\\\\\n",
       "\t3 & Canola & Saskatchewan & 2020-08-01 & 464.60 & 351.3827\\\\\n",
       "\t4 & Canola & Saskatchewan & 2020-10-01 & 474.80 & 359.2966\\\\\n",
       "\t5 & Canola & Saskatchewan & 2020-11-01 & 495.64 & 379.2718\\\\\n",
       "\t6 & Canola & Saskatchewan & 2020-12-01 & 507.33 & 396.1130\\\\\n",
       "\\end{tabular}\n"
      ],
      "text/markdown": [
       "\n",
       "A data.frame: 6 × 5\n",
       "\n",
       "| <!--/--> | CROP_TYPE &lt;fct&gt; | GEO &lt;fct&gt; | DATE &lt;date&gt; | PRICE_PRERMT_CAD &lt;dbl&gt; | PRICE_PRERMT_USD &lt;dbl&gt; |\n",
       "|---|---|---|---|---|---|\n",
       "| 1 | Canola | Saskatchewan | 2020-07-01 | 462.88 | 342.9122 |\n",
       "| 2 | Canola | Saskatchewan | 2020-09-01 | 463.52 | 350.4056 |\n",
       "| 3 | Canola | Saskatchewan | 2020-08-01 | 464.60 | 351.3827 |\n",
       "| 4 | Canola | Saskatchewan | 2020-10-01 | 474.80 | 359.2966 |\n",
       "| 5 | Canola | Saskatchewan | 2020-11-01 | 495.64 | 379.2718 |\n",
       "| 6 | Canola | Saskatchewan | 2020-12-01 | 507.33 | 396.1130 |\n",
       "\n"
      ],
      "text/plain": [
       "  CROP_TYPE GEO          DATE       PRICE_PRERMT_CAD PRICE_PRERMT_USD\n",
       "1 Canola    Saskatchewan 2020-07-01 462.88           342.9122        \n",
       "2 Canola    Saskatchewan 2020-09-01 463.52           350.4056        \n",
       "3 Canola    Saskatchewan 2020-08-01 464.60           351.3827        \n",
       "4 Canola    Saskatchewan 2020-10-01 474.80           359.2966        \n",
       "5 Canola    Saskatchewan 2020-11-01 495.64           379.2718        \n",
       "6 Canola    Saskatchewan 2020-12-01 507.33           396.1130        "
      ]
     },
     "metadata": {},
     "output_type": "display_data"
    }
   ],
   "source": [
    "sqlQuery(conn, \"SELECT CROP_TYPE, GEO, F.DATE,\n",
    "                    F.PRICE_PRERMT AS PRICE_PRERMT_CAD,\n",
    "                    F.PRICE_PRERMT/M.FXUSDCAD AS PRICE_PRERMT_USD\n",
    "                FROM MONTHLY_FX M, FARM_PRICES F\n",
    "                WHERE YEAR(M.DATE)=YEAR(F.DATE) AND MONTH(M.DATE)=MONTH(F.DATE)\n",
    "                    AND GEO='Saskatchewan'\n",
    "                    AND CROP_TYPE='Canola'\n",
    "                    AND F.DATE >(SELECT MAX(DATE) - 6 MONTHS FROM FARM_PRICES)\n",
    "                GROUP BY CROP_TYPE, GEO, F.DATE, F.PRICE_PRERMT, F.PRICE_PRERMT/M.FXUSDCAD\n",
    "        ;\")"
   ]
  },
  {
   "cell_type": "markdown",
   "metadata": {},
   "source": [
    "## Author(s)\n",
    "\n",
    "<h4> Jeff Grossman </h4>\n",
    "\n",
    "## Contributor(s)\n",
    "\n",
    "<h4> Rav Ahuja </h4>\n",
    "\n",
    "## Change log\n",
    "\n",
    "| Date       | Version | Changed by    | Change Description                                                                                          |\n",
    "| ---------- | ------- | ------------- | ----------------------------------------------------------------------------------------------------------- |\n",
    "| 2021-04-01 | 0.7     | Jeff Grossman | Split Problem 1 solution cell into multiple cells, fixed minor bugs |\n",
    "| 2021-03-12 | 0.6     | Jeff Grossman | Cleaned up content for production |\n",
    "| 2021-03-11 | 0.5     | Jeff Grossman | Moved more advanced problems to optional honours module |\n",
    "| 2021-03-10 | 0.4     | Jeff Grossman | Added introductory and intermediate level problems and removed some advanced problems |\n",
    "| 2021-03-04 | 0.3     | Jeff Grossman | Moved some problems to a new practice lab as prep for this assignment\n",
    "| 2021-03-04 | 0.2     | Jeff Grossman | Sorted problems roughly by level of difficulty and relegated more advanced ones to ungraded bonus problems  |\n",
    "| 2021-02-20 | 0.1     | Jeff Grossman | Started content creation                                                                                    |\n",
    "\n",
    "\n",
    "## <h3 align=\"center\"> © IBM Corporation 2021. All rights reserved. <h3/>\n"
   ]
  },
  {
   "cell_type": "code",
   "execution_count": 76,
   "metadata": {
    "tags": []
   },
   "outputs": [],
   "source": [
    "close(conn)"
   ]
  }
 ],
 "metadata": {
  "kernelspec": {
   "display_name": "R",
   "language": "R",
   "name": "ir"
  },
  "language_info": {
   "codemirror_mode": "r",
   "file_extension": ".r",
   "mimetype": "text/x-r-source",
   "name": "R",
   "pygments_lexer": "r",
   "version": "4.3.1"
  }
 },
 "nbformat": 4,
 "nbformat_minor": 4
}
