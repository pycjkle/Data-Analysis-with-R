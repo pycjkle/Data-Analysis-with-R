{
 "cells": [
  {
   "cell_type": "markdown",
   "metadata": {},
   "source": [
    "<center>\n",
    "<img src=\"https://cf-courses-data.s3.us.cloud-object-storage.appdomain.cloud/IBMDeveloperSkillsNetwork-RP0101EN-Coursera/v2/M5_Final/images/SN_web_lightmode.png\" width=\"300\">\n",
    "</center>\n"
   ]
  },
  {
   "cell_type": "markdown",
   "metadata": {},
   "source": [
    "<h1>Analysis of Global COVID-19 Pandemic Data</h1>\n",
    "\n",
    "Estimated time needed: **90** minutes\n",
    "\n"
   ]
  },
  {
   "cell_type": "markdown",
   "metadata": {},
   "source": [
    "## Overview:\n",
    "\n",
    "There are 10 tasks in this final project. All tasks will be graded by your peers who are also completing this assignment within the same session.\n",
    "\n",
    "You need to submit the following the screenshot for the code and output for each task for review.\n",
    "\n",
    "If you need to refresh your memories about specific coding details, you may refer to previous hands-on labs for code examples.\n"
   ]
  },
  {
   "cell_type": "code",
   "execution_count": 1,
   "metadata": {
    "tags": []
   },
   "outputs": [
    {
     "name": "stderr",
     "output_type": "stream",
     "text": [
      "Installing package into 'C:/Users/hauza/AppData/Local/R/win-library/4.3'\n",
      "(as 'lib' is unspecified)\n",
      "\n",
      "also installing the dependency 'curl'\n",
      "\n",
      "\n"
     ]
    },
    {
     "name": "stdout",
     "output_type": "stream",
     "text": [
      "package 'curl' successfully unpacked and MD5 sums checked\n",
      "package 'httr' successfully unpacked and MD5 sums checked\n",
      "\n",
      "The downloaded binary packages are in\n",
      "\tC:\\Users\\hauza\\AppData\\Local\\Temp\\Rtmp4wDrPd\\downloaded_packages\n"
     ]
    },
    {
     "name": "stderr",
     "output_type": "stream",
     "text": [
      "Installing package into 'C:/Users/hauza/AppData/Local/R/win-library/4.3'\n",
      "(as 'lib' is unspecified)\n",
      "\n"
     ]
    },
    {
     "name": "stdout",
     "output_type": "stream",
     "text": [
      "package 'rvest' successfully unpacked and MD5 sums checked\n",
      "\n",
      "The downloaded binary packages are in\n",
      "\tC:\\Users\\hauza\\AppData\\Local\\Temp\\Rtmp4wDrPd\\downloaded_packages\n"
     ]
    }
   ],
   "source": [
    "# If you are working on your local Jupyter notebook, please uncomment the below code and install the packages\n",
    "\n",
    "install.packages(\"httr\")\n",
    "install.packages(\"rvest\")"
   ]
  },
  {
   "cell_type": "code",
   "execution_count": 2,
   "metadata": {
    "tags": []
   },
   "outputs": [],
   "source": [
    "#require(\"httr\")\n",
    "#require(\"rvest\")\n",
    "\n",
    "library(httr)\n",
    "library(rvest)"
   ]
  },
  {
   "cell_type": "markdown",
   "metadata": {},
   "source": [
    "Note: if you can import above libraries, please use install.packages() to install them first.\n"
   ]
  },
  {
   "cell_type": "markdown",
   "metadata": {},
   "source": [
    "## TASK 1: Get a `COVID-19 pandemic` Wiki page using HTTP request\n"
   ]
  },
  {
   "cell_type": "markdown",
   "metadata": {},
   "source": [
    "First, let's write a function to use HTTP request to get a public COVID-19 Wiki page.\n",
    "\n",
    "Before you write the function, you can open this public page from this \n",
    "\n",
    "URL https://en.wikipedia.org/w/index.php?title=Template:COVID-19_testing_by_country using a web browser.\n",
    "\n",
    "The goal of task 1 is to get the html page using HTTP request (`httr` library)\n"
   ]
  },
  {
   "cell_type": "code",
   "execution_count": 7,
   "metadata": {
    "tags": []
   },
   "outputs": [],
   "source": [
    "\n",
    "get_wiki_covid19_page <- function() {\n",
    "    \n",
    "  # Our target COVID-19 wiki page URL is: https://en.wikipedia.org/w/index.php?title=Template:COVID-19_testing_by_country  \n",
    "  # Which has two parts: \n",
    "    # 1) base URL `https://en.wikipedia.org/w/index.php  \n",
    "    # 2) URL parameter: `title=Template:COVID-19_testing_by_country`, seperated by question mark ?\n",
    "    \n",
    "  # Wiki page base\n",
    "    wiki_base_url <- \"https://en.wikipedia.org/w/index.php\"\n",
    "  # You will need to create a List which has an element called `title` to specify which page you want to get from Wiki\n",
    "  # in our case, it will be `Template:COVID-19_testing_by_country`\n",
    "    params <- list(title = \"Template:COVID-19_testing_by_country\")\n",
    "  # - Use the `GET` function in httr library with a `url` argument and a `query` arugment to get a HTTP response\n",
    "    response <- GET(url=wiki_base_url, query=params)\n",
    "  # Use the `return` function to return the response\n",
    "    page_content <- content(response, as = \"text\")\n",
    "    return(page_content)\n",
    "\n",
    "}\n",
    "\n"
   ]
  },
  {
   "cell_type": "markdown",
   "metadata": {},
   "source": [
    "Call the `get_wiki_covid19_page` function to get a http response with the target html page\n"
   ]
  },
  {
   "cell_type": "code",
   "execution_count": null,
   "metadata": {},
   "outputs": [],
   "source": [
    "# Call the get_wiki_covid19_page function and print the response\n",
    "wiki_page <- get_wiki_covid19_page()\n",
    "print(wiki_page)"
   ]
  },
  {
   "cell_type": "markdown",
   "metadata": {},
   "source": [
    "## TASK 2: Extract COVID-19 testing data table from the wiki HTML page\n"
   ]
  },
  {
   "cell_type": "markdown",
   "metadata": {},
   "source": [
    "On the COVID-19 testing wiki page, you should see a data table `<table>` node contains COVID-19 testing data by country on the page:\n",
    "\n",
    "<a href=\"https://cognitiveclass.ai/?utm_medium=Exinfluencer&utm_source=Exinfluencer&utm_content=000026UJ&utm_term=10006555&utm_id=NA-SkillsNetwork-Channel-SkillsNetworkCoursesIBMDeveloperSkillsNetworkRP0101ENCoursera889-2023-01-01\">\n",
    "    <img src=\"https://cf-courses-data.s3.us.cloud-object-storage.appdomain.cloud/IBMDeveloperSkillsNetwork-RP0101EN-Coursera/v2/M5_Final/images/covid-19-by-country.png\" width=\"400\" align=\"center\">\n",
    "</a>\n",
    "\n",
    "Note the numbers you actually see on your page may be different from above because it is still an on-going pandemic when creating this notebook.\n",
    "\n",
    "The goal of task 2 is to extract above data table and convert it into a data frame\n"
   ]
  },
  {
   "cell_type": "markdown",
   "metadata": {},
   "source": [
    "Now use the `read_html` function in rvest library to get the root html node from response\n"
   ]
  },
  {
   "cell_type": "code",
   "execution_count": 9,
   "metadata": {
    "tags": []
   },
   "outputs": [],
   "source": [
    "# Get the root html node from the http response in task 1 \n",
    "html_root <- read_html(wiki_page)"
   ]
  },
  {
   "cell_type": "markdown",
   "metadata": {},
   "source": [
    "Get the tables in the HTML root node using `html_nodes` function.\n"
   ]
  },
  {
   "cell_type": "code",
   "execution_count": 17,
   "metadata": {
    "tags": []
   },
   "outputs": [],
   "source": [
    "# Get the table node from the root html node\n",
    "tables <- html_nodes(html_root, \"table\")"
   ]
  },
  {
   "cell_type": "markdown",
   "metadata": {},
   "source": [
    "Read the specific table from the multiple tables in the `table_node` using the `html_table` function and convert it into dataframe using `as.data.frame`\n",
    "\n",
    "_Hint:- Please read the `table_node` with index 2(ex:- table_node[2])._\n"
   ]
  },
  {
   "cell_type": "code",
   "execution_count": 20,
   "metadata": {
    "tags": []
   },
   "outputs": [
    {
     "name": "stdout",
     "output_type": "stream",
     "text": [
      "List of 4\n",
      " $ : tibble [1 × 2] (S3: tbl_df/tbl/data.frame)\n",
      "  ..$ X1: logi NA\n",
      "  ..$ X2: chr \"This template needs to be updated.  Please help update this template to reflect recent events or newly availabl\"| __truncated__\n",
      " $ : tibble [173 × 9] (S3: tbl_df/tbl/data.frame)\n",
      "  ..$ Country or region      : chr [1:173] \"Afghanistan\" \"Albania\" \"Algeria\" \"Andorra\" ...\n",
      "  ..$ Date[a]                : chr [1:173] \"17 Dec 2020\" \"18 Feb 2021\" \"2 Nov 2020\" \"23 Feb 2022\" ...\n",
      "  ..$ Tested                 : chr [1:173] \"154,767\" \"428,654\" \"230,553\" \"300,307\" ...\n",
      "  ..$ Units[b]               : chr [1:173] \"samples\" \"samples\" \"samples\" \"samples\" ...\n",
      "  ..$ Confirmed(cases)       : chr [1:173] \"49,621\" \"96,838\" \"58,574\" \"37,958\" ...\n",
      "  ..$ Confirmed /tested,%    : chr [1:173] \"32.1\" \"22.6\" \"25.4\" \"12.6\" ...\n",
      "  ..$ Tested /population,%   : chr [1:173] \"0.40\" \"15.0\" \"0.53\" \"387\" ...\n",
      "  ..$ Confirmed /population,%: chr [1:173] \"0.13\" \"3.4\" \"0.13\" \"49.0\" ...\n",
      "  ..$ Ref.                   : chr [1:173] \"[1]\" \"[2]\" \"[3][4]\" \"[5]\" ...\n",
      " $ : tibble [1 × 2] (S3: tbl_df/tbl/data.frame)\n",
      "  ..$ X1: logi NA\n",
      "  ..$ X2: chr \"This template uses TemplateStyles:\\nTemplate:COVID-19 testing by country/styles.css\"\n",
      " $ : tibble [1 × 5] (S3: tbl_df/tbl/data.frame)\n",
      "  ..$ Parameter  : chr \"state\"\n",
      "  ..$ Parameter  : chr \"state\"\n",
      "  ..$ Description: chr \"no description\"\n",
      "  ..$ Type       : chr \"Unknown\"\n",
      "  ..$ Status     : chr \"optional\"\n"
     ]
    }
   ],
   "source": [
    "# Initialize an empty list to store the tables\n",
    "all_table_data <- list()\n",
    "\n",
    "# Iterate through each table and store its content\n",
    "for (i in seq_along(tables)) {\n",
    "  # Extract the content of the current table\n",
    "  table_content <- tables[[i]] %>%\n",
    "    html_table(fill = TRUE)\n",
    "  \n",
    "  # Store the content in the list\n",
    "  all_table_data[[i]] <- table_content\n",
    "}\n",
    "\n",
    "glimpse(all_table_data)"
   ]
  },
  {
   "cell_type": "code",
   "execution_count": 25,
   "metadata": {
    "tags": []
   },
   "outputs": [
    {
     "data": {
      "text/html": [
       "<table class=\"dataframe\">\n",
       "<caption>A tibble: 6 × 9</caption>\n",
       "<thead>\n",
       "\t<tr><th scope=col>Country or region</th><th scope=col>Date[a]</th><th scope=col>Tested</th><th scope=col>Units[b]</th><th scope=col>Confirmed(cases)</th><th scope=col>Confirmed /tested,%</th><th scope=col>Tested /population,%</th><th scope=col>Confirmed /population,%</th><th scope=col>Ref.</th></tr>\n",
       "\t<tr><th scope=col>&lt;chr&gt;</th><th scope=col>&lt;chr&gt;</th><th scope=col>&lt;chr&gt;</th><th scope=col>&lt;chr&gt;</th><th scope=col>&lt;chr&gt;</th><th scope=col>&lt;chr&gt;</th><th scope=col>&lt;chr&gt;</th><th scope=col>&lt;chr&gt;</th><th scope=col>&lt;chr&gt;</th></tr>\n",
       "</thead>\n",
       "<tbody>\n",
       "\t<tr><td>Afghanistan        </td><td>17 Dec 2020</td><td>154,767</td><td>samples</td><td>49,621</td><td>32.1</td><td>0.40</td><td>0.13 </td><td>[1]   </td></tr>\n",
       "\t<tr><td>Albania            </td><td>18 Feb 2021</td><td>428,654</td><td>samples</td><td>96,838</td><td>22.6</td><td>15.0</td><td>3.4  </td><td>[2]   </td></tr>\n",
       "\t<tr><td>Algeria            </td><td>2 Nov 2020 </td><td>230,553</td><td>samples</td><td>58,574</td><td>25.4</td><td>0.53</td><td>0.13 </td><td>[3][4]</td></tr>\n",
       "\t<tr><td>Andorra            </td><td>23 Feb 2022</td><td>300,307</td><td>samples</td><td>37,958</td><td>12.6</td><td>387 </td><td>49.0 </td><td>[5]   </td></tr>\n",
       "\t<tr><td>Angola             </td><td>2 Feb 2021 </td><td>399,228</td><td>samples</td><td>20,981</td><td>5.3 </td><td>1.3 </td><td>0.067</td><td>[6]   </td></tr>\n",
       "\t<tr><td>Antigua and Barbuda</td><td>6 Mar 2021 </td><td>15,268 </td><td>samples</td><td>832   </td><td>5.4 </td><td>15.9</td><td>0.86 </td><td>[7]   </td></tr>\n",
       "</tbody>\n",
       "</table>\n"
      ],
      "text/latex": [
       "A tibble: 6 × 9\n",
       "\\begin{tabular}{lllllllll}\n",
       " Country or region & Date{[}a{]} & Tested & Units{[}b{]} & Confirmed(cases) & Confirmed /tested,\\% & Tested /population,\\% & Confirmed /population,\\% & Ref.\\\\\n",
       " <chr> & <chr> & <chr> & <chr> & <chr> & <chr> & <chr> & <chr> & <chr>\\\\\n",
       "\\hline\n",
       "\t Afghanistan         & 17 Dec 2020 & 154,767 & samples & 49,621 & 32.1 & 0.40 & 0.13  & {[}1{]}   \\\\\n",
       "\t Albania             & 18 Feb 2021 & 428,654 & samples & 96,838 & 22.6 & 15.0 & 3.4   & {[}2{]}   \\\\\n",
       "\t Algeria             & 2 Nov 2020  & 230,553 & samples & 58,574 & 25.4 & 0.53 & 0.13  & {[}3{]}{[}4{]}\\\\\n",
       "\t Andorra             & 23 Feb 2022 & 300,307 & samples & 37,958 & 12.6 & 387  & 49.0  & {[}5{]}   \\\\\n",
       "\t Angola              & 2 Feb 2021  & 399,228 & samples & 20,981 & 5.3  & 1.3  & 0.067 & {[}6{]}   \\\\\n",
       "\t Antigua and Barbuda & 6 Mar 2021  & 15,268  & samples & 832    & 5.4  & 15.9 & 0.86  & {[}7{]}   \\\\\n",
       "\\end{tabular}\n"
      ],
      "text/markdown": [
       "\n",
       "A tibble: 6 × 9\n",
       "\n",
       "| Country or region &lt;chr&gt; | Date[a] &lt;chr&gt; | Tested &lt;chr&gt; | Units[b] &lt;chr&gt; | Confirmed(cases) &lt;chr&gt; | Confirmed /tested,% &lt;chr&gt; | Tested /population,% &lt;chr&gt; | Confirmed /population,% &lt;chr&gt; | Ref. &lt;chr&gt; |\n",
       "|---|---|---|---|---|---|---|---|---|\n",
       "| Afghanistan         | 17 Dec 2020 | 154,767 | samples | 49,621 | 32.1 | 0.40 | 0.13  | [1]    |\n",
       "| Albania             | 18 Feb 2021 | 428,654 | samples | 96,838 | 22.6 | 15.0 | 3.4   | [2]    |\n",
       "| Algeria             | 2 Nov 2020  | 230,553 | samples | 58,574 | 25.4 | 0.53 | 0.13  | [3][4] |\n",
       "| Andorra             | 23 Feb 2022 | 300,307 | samples | 37,958 | 12.6 | 387  | 49.0  | [5]    |\n",
       "| Angola              | 2 Feb 2021  | 399,228 | samples | 20,981 | 5.3  | 1.3  | 0.067 | [6]    |\n",
       "| Antigua and Barbuda | 6 Mar 2021  | 15,268  | samples | 832    | 5.4  | 15.9 | 0.86  | [7]    |\n",
       "\n"
      ],
      "text/plain": [
       "  Country or region   Date[a]     Tested  Units[b] Confirmed(cases)\n",
       "1 Afghanistan         17 Dec 2020 154,767 samples  49,621          \n",
       "2 Albania             18 Feb 2021 428,654 samples  96,838          \n",
       "3 Algeria             2 Nov 2020  230,553 samples  58,574          \n",
       "4 Andorra             23 Feb 2022 300,307 samples  37,958          \n",
       "5 Angola              2 Feb 2021  399,228 samples  20,981          \n",
       "6 Antigua and Barbuda 6 Mar 2021  15,268  samples  832             \n",
       "  Confirmed /tested,% Tested /population,% Confirmed /population,% Ref.  \n",
       "1 32.1                0.40                 0.13                    [1]   \n",
       "2 22.6                15.0                 3.4                     [2]   \n",
       "3 25.4                0.53                 0.13                    [3][4]\n",
       "4 12.6                387                  49.0                    [5]   \n",
       "5 5.3                 1.3                  0.067                   [6]   \n",
       "6 5.4                 15.9                 0.86                    [7]   "
      ]
     },
     "metadata": {},
     "output_type": "display_data"
    }
   ],
   "source": [
    "df <- all_table_data[[2]]\n",
    "\n",
    "head(df)"
   ]
  },
  {
   "cell_type": "markdown",
   "metadata": {},
   "source": [
    "## TASK 3: Pre-process and export the extracted data frame\n",
    "\n",
    "The goal of task 3 is to pre-process the extracted data frame from the previous step, and export it as a csv file\n"
   ]
  },
  {
   "cell_type": "markdown",
   "metadata": {},
   "source": [
    "Let's get a summary of the data frame\n"
   ]
  },
  {
   "cell_type": "code",
   "execution_count": 38,
   "metadata": {
    "tags": []
   },
   "outputs": [
    {
     "name": "stdout",
     "output_type": "stream",
     "text": [
      " Country or region    Date[a]             Tested            Units[b]        \n",
      " Length:173         Length:173         Length:173         Length:173        \n",
      " Class :character   Class :character   Class :character   Class :character  \n",
      " Mode  :character   Mode  :character   Mode  :character   Mode  :character  \n",
      " Confirmed(cases)   Confirmed /tested,% Tested /population,%\n",
      " Length:173         Length:173          Length:173          \n",
      " Class :character   Class :character    Class :character    \n",
      " Mode  :character   Mode  :character    Mode  :character    \n",
      " Confirmed /population,%     Ref.          \n",
      " Length:173              Length:173        \n",
      " Class :character        Class :character  \n",
      " Mode  :character        Mode  :character  \n",
      "Rows: 173\n",
      "Columns: 9\n",
      "$ `Country or region`       \u001b[3m\u001b[90m<chr>\u001b[39m\u001b[23m \"Afghanistan\", \"Albania\", \"Algeria\", \"Andorr…\n",
      "$ `Date[a]`                 \u001b[3m\u001b[90m<chr>\u001b[39m\u001b[23m \"17 Dec 2020\", \"18 Feb 2021\", \"2 Nov 2020\", …\n",
      "$ Tested                    \u001b[3m\u001b[90m<chr>\u001b[39m\u001b[23m \"154,767\", \"428,654\", \"230,553\", \"300,307\", …\n",
      "$ `Units[b]`                \u001b[3m\u001b[90m<chr>\u001b[39m\u001b[23m \"samples\", \"samples\", \"samples\", \"samples\", …\n",
      "$ `Confirmed(cases)`        \u001b[3m\u001b[90m<chr>\u001b[39m\u001b[23m \"49,621\", \"96,838\", \"58,574\", \"37,958\", \"20,…\n",
      "$ `Confirmed /tested,%`     \u001b[3m\u001b[90m<chr>\u001b[39m\u001b[23m \"32.1\", \"22.6\", \"25.4\", \"12.6\", \"5.3\", \"5.4\"…\n",
      "$ `Tested /population,%`    \u001b[3m\u001b[90m<chr>\u001b[39m\u001b[23m \"0.40\", \"15.0\", \"0.53\", \"387\", \"1.3\", \"15.9\"…\n",
      "$ `Confirmed /population,%` \u001b[3m\u001b[90m<chr>\u001b[39m\u001b[23m \"0.13\", \"3.4\", \"0.13\", \"49.0\", \"0.067\", \"0.8…\n",
      "$ Ref.                      \u001b[3m\u001b[90m<chr>\u001b[39m\u001b[23m \"[1]\", \"[2]\", \"[3][4]\", \"[5]\", \"[6]\", \"[7]\",…\n"
     ]
    }
   ],
   "source": [
    "# Print the summary of the data frame\n",
    "print(summary(df))\n",
    "glimpse(df)"
   ]
  },
  {
   "cell_type": "markdown",
   "metadata": {},
   "source": [
    "As you can see from the summary, the columns names are little bit different to understand and some column data types are not correct. For example, the `Tested` column shows as `character`. \n",
    "\n",
    "As such, the data frame read from HTML table will need some pre-processing such as removing irrelvant columns, renaming columns, and convert columns into proper data types.\n"
   ]
  },
  {
   "cell_type": "markdown",
   "metadata": {},
   "source": [
    "We have prepared a pre-processing function for you to conver the data frame but you can also try to write one by yourself\n"
   ]
  },
  {
   "cell_type": "code",
   "execution_count": 39,
   "metadata": {
    "tags": []
   },
   "outputs": [],
   "source": [
    "preprocess_covid_df <- function(df) {\n",
    "    \n",
    "    shape <- dim(df)\n",
    "\n",
    "    # Remove the World row\n",
    "    df<-df[!(df$`Country or region`==\"World\"),]\n",
    "    # Remove the last row\n",
    "    df <- df[1:172, ]\n",
    "    \n",
    "    # We dont need the Units and Ref columns, so can be removed\n",
    "    df[\"Ref.\"] <- NULL\n",
    "    df[\"Units[b]\"] <- NULL\n",
    "    \n",
    "    # Renaming the columns\n",
    "    names(df) <- c(\"country\", \"date\", \"tested\", \"confirmed\", \"confirmed.tested.ratio\", \"tested.population.ratio\", \"confirmed.population.ratio\")\n",
    "    \n",
    "    # Convert column data types\n",
    "    df$country <- as.factor(df$country)\n",
    "    df$date <- as.factor(df$date)\n",
    "    df$tested <- as.numeric(gsub(\",\",\"\",df$tested))\n",
    "    df$confirmed <- as.numeric(gsub(\",\",\"\",df$confirmed))\n",
    "    df$'confirmed.tested.ratio' <- as.numeric(gsub(\",\",\"\",df$`confirmed.tested.ratio`))\n",
    "    df$'tested.population.ratio' <- as.numeric(gsub(\",\",\"\",df$`tested.population.ratio`))\n",
    "    df$'confirmed.population.ratio' <- as.numeric(gsub(\",\",\"\",df$`confirmed.population.ratio`))\n",
    "    \n",
    "    return(df)\n",
    "}"
   ]
  },
  {
   "cell_type": "markdown",
   "metadata": {},
   "source": [
    "Call the `preprocess_covid_data_frame` function\n"
   ]
  },
  {
   "cell_type": "code",
   "execution_count": 40,
   "metadata": {
    "tags": []
   },
   "outputs": [],
   "source": [
    "# call `preprocess_covid_data_frame` function and assign it to a new data frame\n",
    "\n",
    "df_processed <- preprocess_covid_df(df)"
   ]
  },
  {
   "cell_type": "markdown",
   "metadata": {
    "tags": []
   },
   "source": [
    "Get the summary of the processed data frame again\n"
   ]
  },
  {
   "cell_type": "code",
   "execution_count": 41,
   "metadata": {
    "tags": []
   },
   "outputs": [
    {
     "data": {
      "text/plain": [
       "                country             date         tested         \n",
       " Afghanistan        :  1   2 Feb 2023 :  6   Min.   :     3880  \n",
       " Albania            :  1   1 Feb 2023 :  4   1st Qu.:   512037  \n",
       " Algeria            :  1   31 Jan 2023:  4   Median :  3029859  \n",
       " Andorra            :  1   1 Mar 2021 :  3   Mean   : 31377219  \n",
       " Angola             :  1   23 Jul 2021:  3   3rd Qu.: 12386725  \n",
       " Antigua and Barbuda:  1   29 Jan 2023:  3   Max.   :929349291  \n",
       " (Other)            :166   (Other)    :149                      \n",
       "   confirmed        confirmed.tested.ratio tested.population.ratio\n",
       " Min.   :       0   Min.   : 0.00          Min.   :   0.006       \n",
       " 1st Qu.:   37839   1st Qu.: 5.00          1st Qu.:   9.475       \n",
       " Median :  281196   Median :10.05          Median :  46.950       \n",
       " Mean   : 2508340   Mean   :11.25          Mean   : 175.504       \n",
       " 3rd Qu.: 1278105   3rd Qu.:15.25          3rd Qu.: 156.500       \n",
       " Max.   :90749469   Max.   :46.80          Max.   :3223.000       \n",
       "                                                                  \n",
       " confirmed.population.ratio\n",
       " Min.   : 0.000            \n",
       " 1st Qu.: 0.425            \n",
       " Median : 6.100            \n",
       " Mean   :12.769            \n",
       " 3rd Qu.:16.250            \n",
       " Max.   :74.400            \n",
       "                           "
      ]
     },
     "metadata": {},
     "output_type": "display_data"
    }
   ],
   "source": [
    "# Print the summary of the processed data frame again\n",
    "summary(df_processed)"
   ]
  },
  {
   "cell_type": "markdown",
   "metadata": {},
   "source": [
    "After pre-processing, you can see the columns and columns names are simplified, and columns types are converted into correct types.\n"
   ]
  },
  {
   "cell_type": "markdown",
   "metadata": {},
   "source": [
    "The data frame has following columns:\n",
    "\n",
    "- **country** - The name of the country\n",
    "- **date** - Reported date\n",
    "- **tested** - Total tested cases by the reported date\n",
    "- **confirmed** - Total confirmed cases by the reported date\n",
    "- **confirmed.tested.ratio** - The ratio of confirmed cases to the tested cases\n",
    "- **tested.population.ratio** - The ratio of tested cases to the population of the country\n",
    "- **confirmed.population.ratio** - The ratio of confirmed cases to the population of the country\n"
   ]
  },
  {
   "cell_type": "markdown",
   "metadata": {},
   "source": [
    "OK, we can call `write.csv()` function to save the csv file into a file. \n"
   ]
  },
  {
   "cell_type": "code",
   "execution_count": 82,
   "metadata": {
    "tags": []
   },
   "outputs": [],
   "source": [
    "# Export the data frame to a csv file\n",
    "write.csv(df_processed, file='covid_19.csv', row.names=FALSE)"
   ]
  },
  {
   "cell_type": "markdown",
   "metadata": {},
   "source": [
    "Note for IBM Waston Studio, there is no traditional \"hard disk\" associated with a R workspace.\n",
    "\n",
    "Even if you call `write.csv()` method to save the data frame as a csv file, it won't be shown in IBM Cloud Object Storage asset UI automatically.\n",
    "\n",
    "However, you may still check if the `covid.csv` exists using following code snippet:\n"
   ]
  },
  {
   "cell_type": "code",
   "execution_count": 43,
   "metadata": {
    "tags": []
   },
   "outputs": [
    {
     "name": "stdout",
     "output_type": "stream",
     "text": [
      "[1] \"C:/Users/hauza/covid_19.csv\"\n"
     ]
    },
    {
     "data": {
      "text/html": [
       "TRUE"
      ],
      "text/latex": [
       "TRUE"
      ],
      "text/markdown": [
       "TRUE"
      ],
      "text/plain": [
       "[1] TRUE"
      ]
     },
     "metadata": {},
     "output_type": "display_data"
    }
   ],
   "source": [
    "# Get working directory\n",
    "wd <- getwd()\n",
    "# Get exported \n",
    "file_path <- paste(wd, sep=\"\", \"/covid_19.csv\")\n",
    "# File path\n",
    "print(file_path)\n",
    "file.exists(file_path)"
   ]
  },
  {
   "cell_type": "markdown",
   "metadata": {},
   "source": [
    "**Optional Step**: If you have difficulties finishing above webscraping tasks, you may still continue with next tasks by downloading a provided csv file from here:\n"
   ]
  },
  {
   "cell_type": "code",
   "execution_count": null,
   "metadata": {},
   "outputs": [],
   "source": [
    "## Download a sample csv file\n",
    "# covid_csv_file <- download.file(\"https://cf-courses-data.s3.us.cloud-object-storage.appdomain.cloud/IBMDeveloperSkillsNetwork-RP0101EN-Coursera/v2/dataset/covid.csv\", destfile=\"covid.csv\")\n",
    "# covid_data_frame_csv <- read.csv(\"covid.csv\", header=TRUE, sep=\",\")"
   ]
  },
  {
   "cell_type": "markdown",
   "metadata": {},
   "source": [
    "## TASK 4: Get a subset of the extracted data frame\n",
    "\n",
    "The goal of task 4 is to get the 5th to 10th rows from the data frame with only `country` and `confirmed` columns selected\n"
   ]
  },
  {
   "cell_type": "code",
   "execution_count": 83,
   "metadata": {
    "tags": []
   },
   "outputs": [
    {
     "data": {
      "text/html": [
       "<table class=\"dataframe\">\n",
       "<caption>A data.frame: 6 × 2</caption>\n",
       "<thead>\n",
       "\t<tr><th></th><th scope=col>country</th><th scope=col>confirmed</th></tr>\n",
       "\t<tr><th></th><th scope=col>&lt;chr&gt;</th><th scope=col>&lt;int&gt;</th></tr>\n",
       "</thead>\n",
       "<tbody>\n",
       "\t<tr><th scope=row>5</th><td>Angola             </td><td>   20981</td></tr>\n",
       "\t<tr><th scope=row>6</th><td>Antigua and Barbuda</td><td>     832</td></tr>\n",
       "\t<tr><th scope=row>7</th><td>Argentina          </td><td> 9060495</td></tr>\n",
       "\t<tr><th scope=row>8</th><td>Armenia            </td><td>  422963</td></tr>\n",
       "\t<tr><th scope=row>9</th><td>Australia          </td><td>10112229</td></tr>\n",
       "\t<tr><th scope=row>10</th><td>Austria            </td><td> 5789991</td></tr>\n",
       "</tbody>\n",
       "</table>\n"
      ],
      "text/latex": [
       "A data.frame: 6 × 2\n",
       "\\begin{tabular}{r|ll}\n",
       "  & country & confirmed\\\\\n",
       "  & <chr> & <int>\\\\\n",
       "\\hline\n",
       "\t5 & Angola              &    20981\\\\\n",
       "\t6 & Antigua and Barbuda &      832\\\\\n",
       "\t7 & Argentina           &  9060495\\\\\n",
       "\t8 & Armenia             &   422963\\\\\n",
       "\t9 & Australia           & 10112229\\\\\n",
       "\t10 & Austria             &  5789991\\\\\n",
       "\\end{tabular}\n"
      ],
      "text/markdown": [
       "\n",
       "A data.frame: 6 × 2\n",
       "\n",
       "| <!--/--> | country &lt;chr&gt; | confirmed &lt;int&gt; |\n",
       "|---|---|---|\n",
       "| 5 | Angola              |    20981 |\n",
       "| 6 | Antigua and Barbuda |      832 |\n",
       "| 7 | Argentina           |  9060495 |\n",
       "| 8 | Armenia             |   422963 |\n",
       "| 9 | Australia           | 10112229 |\n",
       "| 10 | Austria             |  5789991 |\n",
       "\n"
      ],
      "text/plain": [
       "   country             confirmed\n",
       "5  Angola                 20981 \n",
       "6  Antigua and Barbuda      832 \n",
       "7  Argentina            9060495 \n",
       "8  Armenia               422963 \n",
       "9  Australia           10112229 \n",
       "10 Austria              5789991 "
      ]
     },
     "metadata": {},
     "output_type": "display_data"
    }
   ],
   "source": [
    "# Read covid_data_frame_csv from the csv file\n",
    "covid <- read.csv('covid_19.csv')\n",
    "# Get the 5th to 10th rows, with two \"country\" \"confirmed\" columns\n",
    "covid[5:10,c(\"country\",\"confirmed\")]"
   ]
  },
  {
   "cell_type": "markdown",
   "metadata": {},
   "source": [
    "## TASK 5: Calculate worldwide COVID testing positive ratio\n",
    "\n",
    "The goal of task 5 is to get the total confirmed and tested cases worldwide, and try to figure the overall positive ratio using `confirmed cases / tested cases`\n"
   ]
  },
  {
   "cell_type": "code",
   "execution_count": 84,
   "metadata": {
    "tags": []
   },
   "outputs": [
    {
     "name": "stdout",
     "output_type": "stream",
     "text": [
      "Rows: 172\n",
      "Columns: 7\n",
      "$ country                    \u001b[3m\u001b[90m<chr>\u001b[39m\u001b[23m \"Afghanistan\", \"Albania\", \"Algeria\", \"Andor…\n",
      "$ date                       \u001b[3m\u001b[90m<chr>\u001b[39m\u001b[23m \"17 Dec 2020\", \"18 Feb 2021\", \"2 Nov 2020\",…\n",
      "$ tested                     \u001b[3m\u001b[90m<dbl>\u001b[39m\u001b[23m 154767, 428654, 230553, 300307, 399228, 152…\n",
      "$ confirmed                  \u001b[3m\u001b[90m<int>\u001b[39m\u001b[23m 49621, 96838, 58574, 37958, 20981, 832, 906…\n",
      "$ confirmed.tested.ratio     \u001b[3m\u001b[90m<dbl>\u001b[39m\u001b[23m 32.10, 22.60, 25.40, 12.60, 5.30, 5.40, 25.…\n",
      "$ tested.population.ratio    \u001b[3m\u001b[90m<dbl>\u001b[39m\u001b[23m 0.40, 15.00, 0.53, 387.00, 1.30, 15.90, 78.…\n",
      "$ confirmed.population.ratio \u001b[3m\u001b[90m<dbl>\u001b[39m\u001b[23m 0.130, 3.400, 0.130, 49.000, 0.067, 0.860, …\n"
     ]
    }
   ],
   "source": [
    "glimpse(covid)"
   ]
  },
  {
   "cell_type": "code",
   "execution_count": 85,
   "metadata": {
    "tags": []
   },
   "outputs": [
    {
     "name": "stdout",
     "output_type": "stream",
     "text": [
      "[1] \"Global testing positive ratio: 0.0799414520197323\"\n"
     ]
    }
   ],
   "source": [
    "# Get the total confirmed cases worldwide\n",
    "sum_cases <- sum(covid$confirmed)\n",
    "# Get the total tested cases worldwide\n",
    "sum_tested <- sum(covid$tested)\n",
    "# Get the positive ratio (confirmed / tested)\n",
    "confirmed_tested_ratio <- sum_cases/sum_tested\n",
    "\n",
    "print(paste(\"Global testing positive ratio:\", confirmed_tested_ratio))"
   ]
  },
  {
   "cell_type": "markdown",
   "metadata": {},
   "source": [
    "## TASK 6: Get a country list which reported their testing data \n",
    "\n",
    "The goal of task 6 is to get a catalog or sorted list of countries who have reported their COVID-19 testing data\n"
   ]
  },
  {
   "cell_type": "code",
   "execution_count": 86,
   "metadata": {
    "tags": []
   },
   "outputs": [
    {
     "data": {
      "text/html": [
       "'character'"
      ],
      "text/latex": [
       "'character'"
      ],
      "text/markdown": [
       "'character'"
      ],
      "text/plain": [
       "[1] \"character\""
      ]
     },
     "metadata": {},
     "output_type": "display_data"
    },
    {
     "name": "stdout",
     "output_type": "stream",
     "text": [
      "  [1] \"Zimbabwe\"               \"Zambia\"                 \"Vietnam\"               \n",
      "  [4] \"Venezuela\"              \"Uzbekistan\"             \"Uruguay\"               \n",
      "  [7] \"United States\"          \"United Kingdom\"         \"United Arab Emirates\"  \n",
      " [10] \"Ukraine\"                \"Uganda\"                 \"Turkey\"                \n",
      " [13] \"Tunisia\"                \"Trinidad and Tobago\"    \"Togo\"                  \n",
      " [16] \"Thailand\"               \"Tanzania\"               \"Taiwan[m]\"             \n",
      " [19] \"Switzerland[l]\"         \"Sweden\"                 \"Sudan\"                 \n",
      " [22] \"Sri Lanka\"              \"Spain\"                  \"South Sudan\"           \n",
      " [25] \"South Korea\"            \"South Africa\"           \"Slovenia\"              \n",
      " [28] \"Slovakia\"               \"Singapore\"              \"Serbia\"                \n",
      " [31] \"Senegal\"                \"Saudi Arabia\"           \"San Marino\"            \n",
      " [34] \"Saint Vincent\"          \"Saint Lucia\"            \"Saint Kitts and Nevis\" \n",
      " [37] \"Rwanda\"                 \"Russia\"                 \"Romania\"               \n",
      " [40] \"Qatar\"                  \"Portugal\"               \"Poland\"                \n",
      " [43] \"Philippines\"            \"Peru\"                   \"Paraguay\"              \n",
      " [46] \"Papua New Guinea\"       \"Panama\"                 \"Palestine\"             \n",
      " [49] \"Pakistan\"               \"Oman\"                   \"Norway\"                \n",
      " [52] \"Northern Cyprus[k]\"     \"North Macedonia\"        \"North Korea\"           \n",
      " [55] \"Nigeria\"                \"Niger\"                  \"New Zealand\"           \n",
      " [58] \"New Caledonia\"          \"Netherlands\"            \"Nepal\"                 \n",
      " [61] \"Namibia\"                \"Myanmar\"                \"Mozambique\"            \n",
      " [64] \"Morocco\"                \"Montenegro\"             \"Mongolia\"              \n",
      " [67] \"Moldova[j]\"             \"Mexico\"                 \"Mauritius\"             \n",
      " [70] \"Mauritania\"             \"Malta\"                  \"Mali\"                  \n",
      " [73] \"Maldives\"               \"Malaysia\"               \"Malawi\"                \n",
      " [76] \"Madagascar\"             \"Luxembourg[i]\"          \"Lithuania\"             \n",
      " [79] \"Libya\"                  \"Liberia\"                \"Lesotho\"               \n",
      " [82] \"Lebanon\"                \"Latvia\"                 \"Laos\"                  \n",
      " [85] \"Kyrgyzstan\"             \"Kuwait\"                 \"Kosovo\"                \n",
      " [88] \"Kenya\"                  \"Kazakhstan\"             \"Jordan\"                \n",
      " [91] \"Japan\"                  \"Jamaica\"                \"Ivory Coast\"           \n",
      " [94] \"Italy\"                  \"Israel\"                 \"Ireland\"               \n",
      " [97] \"Iraq\"                   \"Iran\"                   \"Indonesia\"             \n",
      "[100] \"India\"                  \"Iceland\"                \"Hungary\"               \n",
      "[103] \"Honduras\"               \"Haiti\"                  \"Guyana\"                \n",
      "[106] \"Guinea-Bissau\"          \"Guinea\"                 \"Guatemala\"             \n",
      "[109] \"Grenada\"                \"Greenland\"              \"Greece\"                \n",
      "[112] \"Ghana\"                  \"Germany\"                \"Georgia[h]\"            \n",
      "[115] \"Gambia\"                 \"Gabon\"                  \"France[f][g]\"          \n",
      "[118] \"Finland\"                \"Fiji\"                   \"Faroe Islands\"         \n",
      "[121] \"Ethiopia\"               \"Eswatini\"               \"Estonia\"               \n",
      "[124] \"Equatorial Guinea\"      \"El Salvador\"            \"Egypt\"                 \n",
      "[127] \"Ecuador\"                \"DR Congo\"               \"Dominican Republic\"    \n",
      "[130] \"Dominica\"               \"Djibouti\"               \"Denmark[e]\"            \n",
      "[133] \"Czechia\"                \"Cyprus[d]\"              \"Cuba\"                  \n",
      "[136] \"Croatia\"                \"Costa Rica\"             \"Colombia\"              \n",
      "[139] \"China[c]\"               \"Chile\"                  \"Chad\"                  \n",
      "[142] \"Canada\"                 \"Cameroon\"               \"Cambodia\"              \n",
      "[145] \"Burundi\"                \"Burkina Faso\"           \"Bulgaria\"              \n",
      "[148] \"Brunei\"                 \"Brazil\"                 \"Botswana\"              \n",
      "[151] \"Bosnia and Herzegovina\" \"Bolivia\"                \"Bhutan\"                \n",
      "[154] \"Benin\"                  \"Belize\"                 \"Belgium\"               \n",
      "[157] \"Belarus\"                \"Barbados\"               \"Bangladesh\"            \n",
      "[160] \"Bahrain\"                \"Bahamas\"                \"Azerbaijan\"            \n",
      "[163] \"Austria\"                \"Australia\"              \"Armenia\"               \n",
      "[166] \"Argentina\"              \"Antigua and Barbuda\"    \"Angola\"                \n",
      "[169] \"Andorra\"                \"Algeria\"                \"Albania\"               \n",
      "[172] \"Afghanistan\"           \n"
     ]
    }
   ],
   "source": [
    "# Get the `country` column\n",
    "countries <- covid$country\n",
    "# Check its class (should be Factor)\n",
    "class(countries)\n",
    "# Conver the country column into character so that you can easily sort them\n",
    "countries <- as.character(countries)\n",
    "# Sort the countries AtoZ\n",
    "countries <- sort(countries)\n",
    "# Sort the countries ZtoA\n",
    "countries <- sort(countries, decreasing=TRUE)\n",
    "# Print the sorted ZtoA list\n",
    "print(countries)"
   ]
  },
  {
   "cell_type": "markdown",
   "metadata": {},
   "source": [
    "## TASK 7: Identify countries names with a specific pattern\n",
    "\n",
    "The goal of task 7 is using a regular expression to find any countires start with `United`\n"
   ]
  },
  {
   "cell_type": "code",
   "execution_count": 87,
   "metadata": {
    "tags": []
   },
   "outputs": [
    {
     "name": "stdout",
     "output_type": "stream",
     "text": [
      "[1] \"United States\"        \"United Kingdom\"       \"United Arab Emirates\"\n"
     ]
    }
   ],
   "source": [
    "# Use a regular expression `United.+` to find matches\n",
    "united_countries <- list()\n",
    "for (country in countries) {\n",
    "    united_countries <- grep(\"United.+\", countries, value = TRUE)\n",
    "    }\n",
    "# Print the matched country names\n",
    "print(united_countries)"
   ]
  },
  {
   "cell_type": "markdown",
   "metadata": {},
   "source": [
    "## TASK 8: Pick two countries you are interested, and then review their testing data\n",
    "\n",
    "The goal of task 8 is to compare the COVID-19 test data between two countires, you will need to select two rows from the dataframe, and select `country`, `confirmed`, `confirmed-population-ratio` columns\n"
   ]
  },
  {
   "cell_type": "code",
   "execution_count": 108,
   "metadata": {
    "tags": []
   },
   "outputs": [
    {
     "data": {
      "text/html": [
       "<table class=\"dataframe\">\n",
       "<caption>A data.frame: 1 × 3</caption>\n",
       "<thead>\n",
       "\t<tr><th></th><th scope=col>country</th><th scope=col>confirmed</th><th scope=col>confirmed.population.ratio</th></tr>\n",
       "\t<tr><th></th><th scope=col>&lt;chr&gt;</th><th scope=col>&lt;int&gt;</th><th scope=col>&lt;dbl&gt;</th></tr>\n",
       "</thead>\n",
       "<tbody>\n",
       "\t<tr><th scope=row>169</th><td>Venezuela</td><td>159149</td><td>0.55</td></tr>\n",
       "</tbody>\n",
       "</table>\n"
      ],
      "text/latex": [
       "A data.frame: 1 × 3\n",
       "\\begin{tabular}{r|lll}\n",
       "  & country & confirmed & confirmed.population.ratio\\\\\n",
       "  & <chr> & <int> & <dbl>\\\\\n",
       "\\hline\n",
       "\t169 & Venezuela & 159149 & 0.55\\\\\n",
       "\\end{tabular}\n"
      ],
      "text/markdown": [
       "\n",
       "A data.frame: 1 × 3\n",
       "\n",
       "| <!--/--> | country &lt;chr&gt; | confirmed &lt;int&gt; | confirmed.population.ratio &lt;dbl&gt; |\n",
       "|---|---|---|---|\n",
       "| 169 | Venezuela | 159149 | 0.55 |\n",
       "\n"
      ],
      "text/plain": [
       "    country   confirmed confirmed.population.ratio\n",
       "169 Venezuela 159149    0.55                      "
      ]
     },
     "metadata": {},
     "output_type": "display_data"
    },
    {
     "data": {
      "text/html": [
       "<table class=\"dataframe\">\n",
       "<caption>A data.frame: 1 × 3</caption>\n",
       "<thead>\n",
       "\t<tr><th></th><th scope=col>country</th><th scope=col>confirmed</th><th scope=col>confirmed.population.ratio</th></tr>\n",
       "\t<tr><th></th><th scope=col>&lt;chr&gt;</th><th scope=col>&lt;int&gt;</th><th scope=col>&lt;dbl&gt;</th></tr>\n",
       "</thead>\n",
       "<tbody>\n",
       "\t<tr><th scope=row>53</th><td>Faroe Islands</td><td>34237</td><td>65.7</td></tr>\n",
       "</tbody>\n",
       "</table>\n"
      ],
      "text/latex": [
       "A data.frame: 1 × 3\n",
       "\\begin{tabular}{r|lll}\n",
       "  & country & confirmed & confirmed.population.ratio\\\\\n",
       "  & <chr> & <int> & <dbl>\\\\\n",
       "\\hline\n",
       "\t53 & Faroe Islands & 34237 & 65.7\\\\\n",
       "\\end{tabular}\n"
      ],
      "text/markdown": [
       "\n",
       "A data.frame: 1 × 3\n",
       "\n",
       "| <!--/--> | country &lt;chr&gt; | confirmed &lt;int&gt; | confirmed.population.ratio &lt;dbl&gt; |\n",
       "|---|---|---|---|\n",
       "| 53 | Faroe Islands | 34237 | 65.7 |\n",
       "\n"
      ],
      "text/plain": [
       "   country       confirmed confirmed.population.ratio\n",
       "53 Faroe Islands 34237     65.7                      "
      ]
     },
     "metadata": {},
     "output_type": "display_data"
    }
   ],
   "source": [
    "# Select a subset (should be only one row) of data frame based on a selected country name and columns\n",
    "# comparison <- covid[c(2,53), c(\"country\",\"confirmed\",\"confirmed.population.ratio\")]\n",
    "Venezuela <- covid[covid[,1] == \"Venezuela\", c(\"country\",\"confirmed\",\"confirmed.population.ratio\")]\n",
    "head(Venezuela)\n",
    "# Select a subset (should be only one row) of data frame based on a selected country name and columns\n",
    "faroe_islands <- covid[covid[,1] == \"Faroe Islands\", c(\"country\",\"confirmed\",\"confirmed.population.ratio\")]\n",
    "head(faroe_islands)"
   ]
  },
  {
   "cell_type": "markdown",
   "metadata": {},
   "source": [
    "## TASK 9: Compare which one of the selected countries has a larger ratio of confirmed cases to population\n",
    "\n",
    "The goal of task 9 is to find out which country you have selected before has larger ratio of confirmed cases to population, which may indicate that country has higher COVID-19 infection risk\n"
   ]
  },
  {
   "cell_type": "code",
   "execution_count": 94,
   "metadata": {
    "tags": []
   },
   "outputs": [
    {
     "name": "stdout",
     "output_type": "stream",
     "text": [
      "[1] \"Faroe Islands has higher confirmed population ratio\"\n"
     ]
    }
   ],
   "source": [
    "# Use if-else statement\n",
    "if (albania$confirmed.population.ratio > faroe_islands$confirmed.population.ratio) {\n",
    "        print(\"Albania has higher confirmed population ratio\")\n",
    "     } else {\n",
    "        print(\"Faroe Islands has higher confirmed population ratio\")\n",
    "    }\n"
   ]
  },
  {
   "cell_type": "markdown",
   "metadata": {},
   "source": [
    "## TASK 10: Find countries with confirmed to population ratio rate less than a threshold\n",
    "\n",
    "The goal of task 10 is to find out which countries have the confirmed to population ratio less than 1%, it may indicate the risk of those countries are relatively low\n"
   ]
  },
  {
   "cell_type": "code",
   "execution_count": 123,
   "metadata": {
    "tags": []
   },
   "outputs": [
    {
     "name": "stdout",
     "output_type": "stream",
     "text": [
      "               country   ratio\n",
      "1            Venezuela 0.55000\n",
      "2           Uzbekistan 0.13000\n",
      "3               Uganda 0.08700\n",
      "4                 Togo 0.46000\n",
      "5             Thailand 0.03800\n",
      "6             Tanzania 0.00085\n",
      "7                Sudan 0.05300\n",
      "8            Sri Lanka 0.43000\n",
      "9          South Sudan 0.08400\n",
      "10         South Korea 0.17000\n",
      "11             Senegal 0.29000\n",
      "12              Rwanda 0.76000\n",
      "13    Papua New Guinea 0.01100\n",
      "14            Pakistan 0.27000\n",
      "15         North Korea 0.00000\n",
      "16             Nigeria 0.07600\n",
      "17               Niger 0.02100\n",
      "18       New Caledonia 0.05000\n",
      "19             Myanmar 0.81000\n",
      "20          Mozambique 0.34000\n",
      "21           Mauritius 0.03900\n",
      "22          Mauritania 0.41000\n",
      "23                Mali 0.07100\n",
      "24              Malawi 0.46000\n",
      "25          Madagascar 0.07600\n",
      "26             Liberia 0.11000\n",
      "27                Laos 0.00063\n",
      "28               Kenya 0.23000\n",
      "29               Japan 0.34000\n",
      "30         Ivory Coast 0.13000\n",
      "31               Haiti 0.30000\n",
      "32       Guinea-Bissau 0.45000\n",
      "33              Guinea 0.19000\n",
      "34             Grenada 0.14000\n",
      "35               Ghana 0.31000\n",
      "36              Gambia 0.21000\n",
      "37               Gabon 0.08200\n",
      "38            Ethiopia 0.24000\n",
      "39               Egypt 0.28000\n",
      "40            DR Congo 0.02900\n",
      "41            China[c] 0.00610\n",
      "42                Chad 0.02900\n",
      "43            Cameroon 0.12000\n",
      "44            Cambodia 0.48000\n",
      "45             Burundi 0.00740\n",
      "46        Burkina Faso 0.05800\n",
      "47              Brunei 0.07400\n",
      "48               Benin 0.06700\n",
      "49          Bangladesh 0.70000\n",
      "50 Antigua and Barbuda 0.86000\n",
      "51              Angola 0.06700\n",
      "52             Algeria 0.13000\n",
      "53         Afghanistan 0.13000\n"
     ]
    }
   ],
   "source": [
    "# Get a subset of any countries with `confirmed.population.ratio` less than the threshold\n",
    "good_countries <- data.frame(country=character(0), ratio=numeric(0))\n",
    "\n",
    "isGoodRatio <- function(ratio, threshold = 1) {\n",
    "    if (ratio > threshold) {\n",
    "        return(\"No\")\n",
    "    } else {\n",
    "        return(\"Yes\")\n",
    "    }\n",
    "}\n",
    "\n",
    "good_confirmed_ratio <- function(country, my_threshold = 1) {\n",
    "    ratio <<- covid[covid[, 1] == country, \"confirmed.population.ratio\"]\n",
    "    result <- isGoodRatio(ratio, threshold = my_threshold)\n",
    "    return(result)\n",
    "}\n",
    "\n",
    "for (country in countries) {\n",
    "    result <- good_confirmed_ratio(country)\n",
    "    if (result == \"Yes\") {\n",
    "        good_countries <- rbind(good_countries, data.frame(country = country, ratio = ratio))\n",
    "    }\n",
    "}\n",
    "\n",
    "\n",
    "print(good_countries)"
   ]
  }
 ],
 "metadata": {
  "kernelspec": {
   "display_name": "R",
   "language": "R",
   "name": "ir"
  },
  "language_info": {
   "codemirror_mode": "r",
   "file_extension": ".r",
   "mimetype": "text/x-r-source",
   "name": "R",
   "pygments_lexer": "r",
   "version": "4.3.1"
  }
 },
 "nbformat": 4,
 "nbformat_minor": 4
}
